{
  "nbformat": 4,
  "nbformat_minor": 0,
  "metadata": {
    "colab": {
      "provenance": [],
      "gpuType": "T4",
      "authorship_tag": "ABX9TyMWY/pc8Ok1vcELl7WpqzVP",
      "include_colab_link": true
    },
    "kernelspec": {
      "name": "python3",
      "display_name": "Python 3"
    },
    "language_info": {
      "name": "python"
    },
    "widgets": {
      "application/vnd.jupyter.widget-state+json": {
        "a9fe72ca90ec419996c9096a21c1811c": {
          "model_module": "@jupyter-widgets/controls",
          "model_name": "HBoxModel",
          "model_module_version": "1.5.0",
          "state": {
            "_dom_classes": [],
            "_model_module": "@jupyter-widgets/controls",
            "_model_module_version": "1.5.0",
            "_model_name": "HBoxModel",
            "_view_count": null,
            "_view_module": "@jupyter-widgets/controls",
            "_view_module_version": "1.5.0",
            "_view_name": "HBoxView",
            "box_style": "",
            "children": [
              "IPY_MODEL_eef54ad482d946d49ed974e0a4f98f6a",
              "IPY_MODEL_e10b9d5ba15b4d9bb72382f9dfe06f0d",
              "IPY_MODEL_cc07f97c9a494165a8968d887012d710"
            ],
            "layout": "IPY_MODEL_c0e12902a08f4dc5beab9bd8ec45b105"
          }
        },
        "eef54ad482d946d49ed974e0a4f98f6a": {
          "model_module": "@jupyter-widgets/controls",
          "model_name": "HTMLModel",
          "model_module_version": "1.5.0",
          "state": {
            "_dom_classes": [],
            "_model_module": "@jupyter-widgets/controls",
            "_model_module_version": "1.5.0",
            "_model_name": "HTMLModel",
            "_view_count": null,
            "_view_module": "@jupyter-widgets/controls",
            "_view_module_version": "1.5.0",
            "_view_name": "HTMLView",
            "description": "",
            "description_tooltip": null,
            "layout": "IPY_MODEL_36f0a414ab55420bbcdf2891c985d31c",
            "placeholder": "​",
            "style": "IPY_MODEL_62ca1390baf04bfc8a3d774f77314062",
            "value": "Loading pipeline components...: 100%"
          }
        },
        "e10b9d5ba15b4d9bb72382f9dfe06f0d": {
          "model_module": "@jupyter-widgets/controls",
          "model_name": "FloatProgressModel",
          "model_module_version": "1.5.0",
          "state": {
            "_dom_classes": [],
            "_model_module": "@jupyter-widgets/controls",
            "_model_module_version": "1.5.0",
            "_model_name": "FloatProgressModel",
            "_view_count": null,
            "_view_module": "@jupyter-widgets/controls",
            "_view_module_version": "1.5.0",
            "_view_name": "ProgressView",
            "bar_style": "success",
            "description": "",
            "description_tooltip": null,
            "layout": "IPY_MODEL_7d9d3ef2ea84440f9e8ab159d98d3b5c",
            "max": 7,
            "min": 0,
            "orientation": "horizontal",
            "style": "IPY_MODEL_066b8b7602fa431e808cb0222dbbb2fb",
            "value": 7
          }
        },
        "cc07f97c9a494165a8968d887012d710": {
          "model_module": "@jupyter-widgets/controls",
          "model_name": "HTMLModel",
          "model_module_version": "1.5.0",
          "state": {
            "_dom_classes": [],
            "_model_module": "@jupyter-widgets/controls",
            "_model_module_version": "1.5.0",
            "_model_name": "HTMLModel",
            "_view_count": null,
            "_view_module": "@jupyter-widgets/controls",
            "_view_module_version": "1.5.0",
            "_view_name": "HTMLView",
            "description": "",
            "description_tooltip": null,
            "layout": "IPY_MODEL_81ee07710eaf4be48340cc37ced2c34b",
            "placeholder": "​",
            "style": "IPY_MODEL_78f1ed74b90841a4bdcd01b0149ca86f",
            "value": " 7/7 [00:08&lt;00:00,  1.28s/it]"
          }
        },
        "c0e12902a08f4dc5beab9bd8ec45b105": {
          "model_module": "@jupyter-widgets/base",
          "model_name": "LayoutModel",
          "model_module_version": "1.2.0",
          "state": {
            "_model_module": "@jupyter-widgets/base",
            "_model_module_version": "1.2.0",
            "_model_name": "LayoutModel",
            "_view_count": null,
            "_view_module": "@jupyter-widgets/base",
            "_view_module_version": "1.2.0",
            "_view_name": "LayoutView",
            "align_content": null,
            "align_items": null,
            "align_self": null,
            "border": null,
            "bottom": null,
            "display": null,
            "flex": null,
            "flex_flow": null,
            "grid_area": null,
            "grid_auto_columns": null,
            "grid_auto_flow": null,
            "grid_auto_rows": null,
            "grid_column": null,
            "grid_gap": null,
            "grid_row": null,
            "grid_template_areas": null,
            "grid_template_columns": null,
            "grid_template_rows": null,
            "height": null,
            "justify_content": null,
            "justify_items": null,
            "left": null,
            "margin": null,
            "max_height": null,
            "max_width": null,
            "min_height": null,
            "min_width": null,
            "object_fit": null,
            "object_position": null,
            "order": null,
            "overflow": null,
            "overflow_x": null,
            "overflow_y": null,
            "padding": null,
            "right": null,
            "top": null,
            "visibility": null,
            "width": null
          }
        },
        "36f0a414ab55420bbcdf2891c985d31c": {
          "model_module": "@jupyter-widgets/base",
          "model_name": "LayoutModel",
          "model_module_version": "1.2.0",
          "state": {
            "_model_module": "@jupyter-widgets/base",
            "_model_module_version": "1.2.0",
            "_model_name": "LayoutModel",
            "_view_count": null,
            "_view_module": "@jupyter-widgets/base",
            "_view_module_version": "1.2.0",
            "_view_name": "LayoutView",
            "align_content": null,
            "align_items": null,
            "align_self": null,
            "border": null,
            "bottom": null,
            "display": null,
            "flex": null,
            "flex_flow": null,
            "grid_area": null,
            "grid_auto_columns": null,
            "grid_auto_flow": null,
            "grid_auto_rows": null,
            "grid_column": null,
            "grid_gap": null,
            "grid_row": null,
            "grid_template_areas": null,
            "grid_template_columns": null,
            "grid_template_rows": null,
            "height": null,
            "justify_content": null,
            "justify_items": null,
            "left": null,
            "margin": null,
            "max_height": null,
            "max_width": null,
            "min_height": null,
            "min_width": null,
            "object_fit": null,
            "object_position": null,
            "order": null,
            "overflow": null,
            "overflow_x": null,
            "overflow_y": null,
            "padding": null,
            "right": null,
            "top": null,
            "visibility": null,
            "width": null
          }
        },
        "62ca1390baf04bfc8a3d774f77314062": {
          "model_module": "@jupyter-widgets/controls",
          "model_name": "DescriptionStyleModel",
          "model_module_version": "1.5.0",
          "state": {
            "_model_module": "@jupyter-widgets/controls",
            "_model_module_version": "1.5.0",
            "_model_name": "DescriptionStyleModel",
            "_view_count": null,
            "_view_module": "@jupyter-widgets/base",
            "_view_module_version": "1.2.0",
            "_view_name": "StyleView",
            "description_width": ""
          }
        },
        "7d9d3ef2ea84440f9e8ab159d98d3b5c": {
          "model_module": "@jupyter-widgets/base",
          "model_name": "LayoutModel",
          "model_module_version": "1.2.0",
          "state": {
            "_model_module": "@jupyter-widgets/base",
            "_model_module_version": "1.2.0",
            "_model_name": "LayoutModel",
            "_view_count": null,
            "_view_module": "@jupyter-widgets/base",
            "_view_module_version": "1.2.0",
            "_view_name": "LayoutView",
            "align_content": null,
            "align_items": null,
            "align_self": null,
            "border": null,
            "bottom": null,
            "display": null,
            "flex": null,
            "flex_flow": null,
            "grid_area": null,
            "grid_auto_columns": null,
            "grid_auto_flow": null,
            "grid_auto_rows": null,
            "grid_column": null,
            "grid_gap": null,
            "grid_row": null,
            "grid_template_areas": null,
            "grid_template_columns": null,
            "grid_template_rows": null,
            "height": null,
            "justify_content": null,
            "justify_items": null,
            "left": null,
            "margin": null,
            "max_height": null,
            "max_width": null,
            "min_height": null,
            "min_width": null,
            "object_fit": null,
            "object_position": null,
            "order": null,
            "overflow": null,
            "overflow_x": null,
            "overflow_y": null,
            "padding": null,
            "right": null,
            "top": null,
            "visibility": null,
            "width": null
          }
        },
        "066b8b7602fa431e808cb0222dbbb2fb": {
          "model_module": "@jupyter-widgets/controls",
          "model_name": "ProgressStyleModel",
          "model_module_version": "1.5.0",
          "state": {
            "_model_module": "@jupyter-widgets/controls",
            "_model_module_version": "1.5.0",
            "_model_name": "ProgressStyleModel",
            "_view_count": null,
            "_view_module": "@jupyter-widgets/base",
            "_view_module_version": "1.2.0",
            "_view_name": "StyleView",
            "bar_color": null,
            "description_width": ""
          }
        },
        "81ee07710eaf4be48340cc37ced2c34b": {
          "model_module": "@jupyter-widgets/base",
          "model_name": "LayoutModel",
          "model_module_version": "1.2.0",
          "state": {
            "_model_module": "@jupyter-widgets/base",
            "_model_module_version": "1.2.0",
            "_model_name": "LayoutModel",
            "_view_count": null,
            "_view_module": "@jupyter-widgets/base",
            "_view_module_version": "1.2.0",
            "_view_name": "LayoutView",
            "align_content": null,
            "align_items": null,
            "align_self": null,
            "border": null,
            "bottom": null,
            "display": null,
            "flex": null,
            "flex_flow": null,
            "grid_area": null,
            "grid_auto_columns": null,
            "grid_auto_flow": null,
            "grid_auto_rows": null,
            "grid_column": null,
            "grid_gap": null,
            "grid_row": null,
            "grid_template_areas": null,
            "grid_template_columns": null,
            "grid_template_rows": null,
            "height": null,
            "justify_content": null,
            "justify_items": null,
            "left": null,
            "margin": null,
            "max_height": null,
            "max_width": null,
            "min_height": null,
            "min_width": null,
            "object_fit": null,
            "object_position": null,
            "order": null,
            "overflow": null,
            "overflow_x": null,
            "overflow_y": null,
            "padding": null,
            "right": null,
            "top": null,
            "visibility": null,
            "width": null
          }
        },
        "78f1ed74b90841a4bdcd01b0149ca86f": {
          "model_module": "@jupyter-widgets/controls",
          "model_name": "DescriptionStyleModel",
          "model_module_version": "1.5.0",
          "state": {
            "_model_module": "@jupyter-widgets/controls",
            "_model_module_version": "1.5.0",
            "_model_name": "DescriptionStyleModel",
            "_view_count": null,
            "_view_module": "@jupyter-widgets/base",
            "_view_module_version": "1.2.0",
            "_view_name": "StyleView",
            "description_width": ""
          }
        }
      }
    },
    "accelerator": "GPU"
  },
  "cells": [
    {
      "cell_type": "markdown",
      "metadata": {
        "id": "view-in-github",
        "colab_type": "text"
      },
      "source": [
        "<a href=\"https://colab.research.google.com/github/Lucas-Ellenberger/CSE144/blob/main/stage.ipynb\" target=\"_parent\"><img src=\"https://colab.research.google.com/assets/colab-badge.svg\" alt=\"Open In Colab\"/></a>"
      ]
    },
    {
      "cell_type": "code",
      "source": [
        "import sys\n",
        "import os"
      ],
      "metadata": {
        "id": "FWN78aL3YLAP"
      },
      "execution_count": null,
      "outputs": []
    },
    {
      "cell_type": "code",
      "source": [
        "# make sure you're logged in with `huggingface-cli login`\n",
        "from huggingface_hub import login\n",
        "\n",
        "login()"
      ],
      "metadata": {
        "colab": {
          "base_uri": "https://localhost:8080/",
          "height": 176
        },
        "id": "gFlbQcHDh64P",
        "outputId": "0d064a6c-0d0e-4bb9-dea8-9db9dcaab8d3",
        "collapsed": true
      },
      "execution_count": null,
      "outputs": [
        {
          "output_type": "error",
          "ename": "ModuleNotFoundError",
          "evalue": "No module named 'huggingface_hub'",
          "traceback": [
            "\u001b[0;31m---------------------------------------------------------------------------\u001b[0m",
            "\u001b[0;31mModuleNotFoundError\u001b[0m                       Traceback (most recent call last)",
            "Cell \u001b[0;32mIn[2], line 2\u001b[0m\n\u001b[1;32m      1\u001b[0m \u001b[38;5;66;03m# make sure you're logged in with `huggingface-cli login`\u001b[39;00m\n\u001b[0;32m----> 2\u001b[0m \u001b[38;5;28;01mfrom\u001b[39;00m \u001b[38;5;21;01mhuggingface_hub\u001b[39;00m \u001b[38;5;28;01mimport\u001b[39;00m login\n\u001b[1;32m      4\u001b[0m login()\n",
            "\u001b[0;31mModuleNotFoundError\u001b[0m: No module named 'huggingface_hub'"
          ]
        }
      ]
    },
    {
      "cell_type": "code",
      "source": [
        "!pip install torch\n",
        "!pip install diffusers\n",
        "!pip install accelerate\n",
        "!pip install datasets\n",
        "!pip install datasets[vision]"
      ],
      "metadata": {
        "colab": {
          "base_uri": "https://localhost:8080/"
        },
        "collapsed": true,
        "id": "vGbikkF7ht96",
        "outputId": "f8a53720-73d5-4d94-d650-609ab2d83956"
      },
      "execution_count": null,
      "outputs": [
        {
          "output_type": "stream",
          "name": "stdout",
          "text": [
            "Requirement already satisfied: torch in /usr/local/lib/python3.10/dist-packages (2.2.1+cu121)\n",
            "Requirement already satisfied: filelock in /usr/local/lib/python3.10/dist-packages (from torch) (3.14.0)\n",
            "Requirement already satisfied: typing-extensions>=4.8.0 in /usr/local/lib/python3.10/dist-packages (from torch) (4.11.0)\n",
            "Requirement already satisfied: sympy in /usr/local/lib/python3.10/dist-packages (from torch) (1.12)\n",
            "Requirement already satisfied: networkx in /usr/local/lib/python3.10/dist-packages (from torch) (3.3)\n",
            "Requirement already satisfied: jinja2 in /usr/local/lib/python3.10/dist-packages (from torch) (3.1.4)\n",
            "Requirement already satisfied: fsspec in /usr/local/lib/python3.10/dist-packages (from torch) (2023.6.0)\n",
            "Requirement already satisfied: nvidia-cuda-nvrtc-cu12==12.1.105 in /usr/local/lib/python3.10/dist-packages (from torch) (12.1.105)\n",
            "Requirement already satisfied: nvidia-cuda-runtime-cu12==12.1.105 in /usr/local/lib/python3.10/dist-packages (from torch) (12.1.105)\n",
            "Requirement already satisfied: nvidia-cuda-cupti-cu12==12.1.105 in /usr/local/lib/python3.10/dist-packages (from torch) (12.1.105)\n",
            "Requirement already satisfied: nvidia-cudnn-cu12==8.9.2.26 in /usr/local/lib/python3.10/dist-packages (from torch) (8.9.2.26)\n",
            "Requirement already satisfied: nvidia-cublas-cu12==12.1.3.1 in /usr/local/lib/python3.10/dist-packages (from torch) (12.1.3.1)\n",
            "Requirement already satisfied: nvidia-cufft-cu12==11.0.2.54 in /usr/local/lib/python3.10/dist-packages (from torch) (11.0.2.54)\n",
            "Requirement already satisfied: nvidia-curand-cu12==10.3.2.106 in /usr/local/lib/python3.10/dist-packages (from torch) (10.3.2.106)\n",
            "Requirement already satisfied: nvidia-cusolver-cu12==11.4.5.107 in /usr/local/lib/python3.10/dist-packages (from torch) (11.4.5.107)\n",
            "Requirement already satisfied: nvidia-cusparse-cu12==12.1.0.106 in /usr/local/lib/python3.10/dist-packages (from torch) (12.1.0.106)\n",
            "Requirement already satisfied: nvidia-nccl-cu12==2.19.3 in /usr/local/lib/python3.10/dist-packages (from torch) (2.19.3)\n",
            "Requirement already satisfied: nvidia-nvtx-cu12==12.1.105 in /usr/local/lib/python3.10/dist-packages (from torch) (12.1.105)\n",
            "Requirement already satisfied: triton==2.2.0 in /usr/local/lib/python3.10/dist-packages (from torch) (2.2.0)\n",
            "Requirement already satisfied: nvidia-nvjitlink-cu12 in /usr/local/lib/python3.10/dist-packages (from nvidia-cusolver-cu12==11.4.5.107->torch) (12.4.127)\n",
            "Requirement already satisfied: MarkupSafe>=2.0 in /usr/local/lib/python3.10/dist-packages (from jinja2->torch) (2.1.5)\n",
            "Requirement already satisfied: mpmath>=0.19 in /usr/local/lib/python3.10/dist-packages (from sympy->torch) (1.3.0)\n",
            "Requirement already satisfied: diffusers in /usr/local/lib/python3.10/dist-packages (0.27.2)\n",
            "Requirement already satisfied: importlib-metadata in /usr/local/lib/python3.10/dist-packages (from diffusers) (7.1.0)\n",
            "Requirement already satisfied: filelock in /usr/local/lib/python3.10/dist-packages (from diffusers) (3.14.0)\n",
            "Requirement already satisfied: huggingface-hub>=0.20.2 in /usr/local/lib/python3.10/dist-packages (from diffusers) (0.20.3)\n",
            "Requirement already satisfied: numpy in /usr/local/lib/python3.10/dist-packages (from diffusers) (1.25.2)\n",
            "Requirement already satisfied: regex!=2019.12.17 in /usr/local/lib/python3.10/dist-packages (from diffusers) (2023.12.25)\n",
            "Requirement already satisfied: requests in /usr/local/lib/python3.10/dist-packages (from diffusers) (2.31.0)\n",
            "Requirement already satisfied: safetensors>=0.3.1 in /usr/local/lib/python3.10/dist-packages (from diffusers) (0.4.3)\n",
            "Requirement already satisfied: Pillow in /usr/local/lib/python3.10/dist-packages (from diffusers) (9.4.0)\n",
            "Requirement already satisfied: fsspec>=2023.5.0 in /usr/local/lib/python3.10/dist-packages (from huggingface-hub>=0.20.2->diffusers) (2023.6.0)\n",
            "Requirement already satisfied: tqdm>=4.42.1 in /usr/local/lib/python3.10/dist-packages (from huggingface-hub>=0.20.2->diffusers) (4.66.4)\n",
            "Requirement already satisfied: pyyaml>=5.1 in /usr/local/lib/python3.10/dist-packages (from huggingface-hub>=0.20.2->diffusers) (6.0.1)\n",
            "Requirement already satisfied: typing-extensions>=3.7.4.3 in /usr/local/lib/python3.10/dist-packages (from huggingface-hub>=0.20.2->diffusers) (4.11.0)\n",
            "Requirement already satisfied: packaging>=20.9 in /usr/local/lib/python3.10/dist-packages (from huggingface-hub>=0.20.2->diffusers) (24.0)\n",
            "Requirement already satisfied: zipp>=0.5 in /usr/local/lib/python3.10/dist-packages (from importlib-metadata->diffusers) (3.18.1)\n",
            "Requirement already satisfied: charset-normalizer<4,>=2 in /usr/local/lib/python3.10/dist-packages (from requests->diffusers) (3.3.2)\n",
            "Requirement already satisfied: idna<4,>=2.5 in /usr/local/lib/python3.10/dist-packages (from requests->diffusers) (3.7)\n",
            "Requirement already satisfied: urllib3<3,>=1.21.1 in /usr/local/lib/python3.10/dist-packages (from requests->diffusers) (2.0.7)\n",
            "Requirement already satisfied: certifi>=2017.4.17 in /usr/local/lib/python3.10/dist-packages (from requests->diffusers) (2024.2.2)\n"
          ]
        }
      ]
    },
    {
      "cell_type": "code",
      "source": [
        "import torch\n",
        "from torch import autocast\n",
        "import accelerate\n",
        "from diffusers import StableDiffusionPipeline"
      ],
      "metadata": {
        "colab": {
          "base_uri": "https://localhost:8080/"
        },
        "id": "KQj7EnCNlPDj",
        "outputId": "63c04892-ddc1-4329-c15e-e8f78419bbbe",
        "collapsed": true
      },
      "execution_count": null,
      "outputs": [
        {
          "output_type": "stream",
          "name": "stdout",
          "text": [
            "Requirement already satisfied: accelerate in /usr/local/lib/python3.10/dist-packages (0.30.1)\n",
            "Requirement already satisfied: numpy>=1.17 in /usr/local/lib/python3.10/dist-packages (from accelerate) (1.25.2)\n",
            "Requirement already satisfied: packaging>=20.0 in /usr/local/lib/python3.10/dist-packages (from accelerate) (24.0)\n",
            "Requirement already satisfied: psutil in /usr/local/lib/python3.10/dist-packages (from accelerate) (5.9.5)\n",
            "Requirement already satisfied: pyyaml in /usr/local/lib/python3.10/dist-packages (from accelerate) (6.0.1)\n",
            "Requirement already satisfied: torch>=1.10.0 in /usr/local/lib/python3.10/dist-packages (from accelerate) (2.2.1+cu121)\n",
            "Requirement already satisfied: huggingface-hub in /usr/local/lib/python3.10/dist-packages (from accelerate) (0.20.3)\n",
            "Requirement already satisfied: safetensors>=0.3.1 in /usr/local/lib/python3.10/dist-packages (from accelerate) (0.4.3)\n",
            "Requirement already satisfied: filelock in /usr/local/lib/python3.10/dist-packages (from torch>=1.10.0->accelerate) (3.14.0)\n",
            "Requirement already satisfied: typing-extensions>=4.8.0 in /usr/local/lib/python3.10/dist-packages (from torch>=1.10.0->accelerate) (4.11.0)\n",
            "Requirement already satisfied: sympy in /usr/local/lib/python3.10/dist-packages (from torch>=1.10.0->accelerate) (1.12)\n",
            "Requirement already satisfied: networkx in /usr/local/lib/python3.10/dist-packages (from torch>=1.10.0->accelerate) (3.3)\n",
            "Requirement already satisfied: jinja2 in /usr/local/lib/python3.10/dist-packages (from torch>=1.10.0->accelerate) (3.1.4)\n",
            "Requirement already satisfied: fsspec in /usr/local/lib/python3.10/dist-packages (from torch>=1.10.0->accelerate) (2023.6.0)\n",
            "Requirement already satisfied: nvidia-cuda-nvrtc-cu12==12.1.105 in /usr/local/lib/python3.10/dist-packages (from torch>=1.10.0->accelerate) (12.1.105)\n",
            "Requirement already satisfied: nvidia-cuda-runtime-cu12==12.1.105 in /usr/local/lib/python3.10/dist-packages (from torch>=1.10.0->accelerate) (12.1.105)\n",
            "Requirement already satisfied: nvidia-cuda-cupti-cu12==12.1.105 in /usr/local/lib/python3.10/dist-packages (from torch>=1.10.0->accelerate) (12.1.105)\n",
            "Requirement already satisfied: nvidia-cudnn-cu12==8.9.2.26 in /usr/local/lib/python3.10/dist-packages (from torch>=1.10.0->accelerate) (8.9.2.26)\n",
            "Requirement already satisfied: nvidia-cublas-cu12==12.1.3.1 in /usr/local/lib/python3.10/dist-packages (from torch>=1.10.0->accelerate) (12.1.3.1)\n",
            "Requirement already satisfied: nvidia-cufft-cu12==11.0.2.54 in /usr/local/lib/python3.10/dist-packages (from torch>=1.10.0->accelerate) (11.0.2.54)\n",
            "Requirement already satisfied: nvidia-curand-cu12==10.3.2.106 in /usr/local/lib/python3.10/dist-packages (from torch>=1.10.0->accelerate) (10.3.2.106)\n",
            "Requirement already satisfied: nvidia-cusolver-cu12==11.4.5.107 in /usr/local/lib/python3.10/dist-packages (from torch>=1.10.0->accelerate) (11.4.5.107)\n",
            "Requirement already satisfied: nvidia-cusparse-cu12==12.1.0.106 in /usr/local/lib/python3.10/dist-packages (from torch>=1.10.0->accelerate) (12.1.0.106)\n",
            "Requirement already satisfied: nvidia-nccl-cu12==2.19.3 in /usr/local/lib/python3.10/dist-packages (from torch>=1.10.0->accelerate) (2.19.3)\n",
            "Requirement already satisfied: nvidia-nvtx-cu12==12.1.105 in /usr/local/lib/python3.10/dist-packages (from torch>=1.10.0->accelerate) (12.1.105)\n",
            "Requirement already satisfied: triton==2.2.0 in /usr/local/lib/python3.10/dist-packages (from torch>=1.10.0->accelerate) (2.2.0)\n",
            "Requirement already satisfied: nvidia-nvjitlink-cu12 in /usr/local/lib/python3.10/dist-packages (from nvidia-cusolver-cu12==11.4.5.107->torch>=1.10.0->accelerate) (12.4.127)\n",
            "Requirement already satisfied: requests in /usr/local/lib/python3.10/dist-packages (from huggingface-hub->accelerate) (2.31.0)\n",
            "Requirement already satisfied: tqdm>=4.42.1 in /usr/local/lib/python3.10/dist-packages (from huggingface-hub->accelerate) (4.66.4)\n",
            "Requirement already satisfied: MarkupSafe>=2.0 in /usr/local/lib/python3.10/dist-packages (from jinja2->torch>=1.10.0->accelerate) (2.1.5)\n",
            "Requirement already satisfied: charset-normalizer<4,>=2 in /usr/local/lib/python3.10/dist-packages (from requests->huggingface-hub->accelerate) (3.3.2)\n",
            "Requirement already satisfied: idna<4,>=2.5 in /usr/local/lib/python3.10/dist-packages (from requests->huggingface-hub->accelerate) (3.7)\n",
            "Requirement already satisfied: urllib3<3,>=1.21.1 in /usr/local/lib/python3.10/dist-packages (from requests->huggingface-hub->accelerate) (2.0.7)\n",
            "Requirement already satisfied: certifi>=2017.4.17 in /usr/local/lib/python3.10/dist-packages (from requests->huggingface-hub->accelerate) (2024.2.2)\n",
            "Requirement already satisfied: mpmath>=0.19 in /usr/local/lib/python3.10/dist-packages (from sympy->torch>=1.10.0->accelerate) (1.3.0)\n"
          ]
        }
      ]
    },
    {
      "cell_type": "code",
      "source": [
        "from diffusers import DDPMPipeline\n",
        "from accelerate import Accelerator\n",
        "from datasets import load_dataset"
      ],
      "metadata": {
        "id": "jV3gcKujOiXp"
      },
      "execution_count": null,
      "outputs": []
    },
    {
      "cell_type": "code",
      "source": [
        "!pip install datasets\n",
        "!pip install datasets[vision]\n",
        "from datasets import load_dataset\n",
        "dataset = load_dataset(\"AI4Math/MathVista\")"
      ],
      "metadata": {
        "collapsed": true,
        "id": "p62Z_0D80TPt",
        "outputId": "8208f7d2-6718-41c0-c8b5-2133940bba98",
        "colab": {
          "base_uri": "https://localhost:8080/"
        }
      },
      "execution_count": 1,
      "outputs": [
        {
          "output_type": "stream",
          "name": "stdout",
          "text": [
            "Defaulting to user installation because normal site-packages is not writeable\n",
            "Requirement already satisfied: datasets in ./.local/lib/python3.10/site-packages (2.19.1)\n",
            "Requirement already satisfied: filelock in ./.local/lib/python3.10/site-packages (from datasets) (3.14.0)\n",
            "Requirement already satisfied: numpy>=1.17 in ./.local/lib/python3.10/site-packages (from datasets) (1.24.2)\n",
            "Requirement already satisfied: pyarrow>=12.0.0 in ./.local/lib/python3.10/site-packages (from datasets) (16.1.0)\n",
            "Requirement already satisfied: pyarrow-hotfix in ./.local/lib/python3.10/site-packages (from datasets) (0.6)\n",
            "Requirement already satisfied: dill<0.3.9,>=0.3.0 in ./.local/lib/python3.10/site-packages (from datasets) (0.3.8)\n",
            "Requirement already satisfied: pandas in ./.local/lib/python3.10/site-packages (from datasets) (2.0.0)\n",
            "Requirement already satisfied: requests>=2.19.0 in ./.local/lib/python3.10/site-packages (from datasets) (2.28.2)\n",
            "Requirement already satisfied: tqdm>=4.62.1 in ./.local/lib/python3.10/site-packages (from datasets) (4.66.4)\n",
            "Requirement already satisfied: xxhash in ./.local/lib/python3.10/site-packages (from datasets) (3.4.1)\n",
            "Requirement already satisfied: multiprocess in ./.local/lib/python3.10/site-packages (from datasets) (0.70.16)\n",
            "Requirement already satisfied: fsspec<=2024.3.1,>=2023.1.0 in ./.local/lib/python3.10/site-packages (from fsspec[http]<=2024.3.1,>=2023.1.0->datasets) (2024.3.1)\n",
            "Requirement already satisfied: aiohttp in ./.local/lib/python3.10/site-packages (from datasets) (3.9.5)\n",
            "Requirement already satisfied: huggingface-hub>=0.21.2 in ./.local/lib/python3.10/site-packages (from datasets) (0.23.1)\n",
            "Requirement already satisfied: packaging in ./.local/lib/python3.10/site-packages (from datasets) (23.0)\n",
            "Requirement already satisfied: pyyaml>=5.1 in /usr/lib/python3/dist-packages (from datasets) (5.3.1)\n",
            "Requirement already satisfied: aiosignal>=1.1.2 in ./.local/lib/python3.10/site-packages (from aiohttp->datasets) (1.3.1)\n",
            "Requirement already satisfied: attrs>=17.3.0 in /usr/lib/python3/dist-packages (from aiohttp->datasets) (19.3.0)\n",
            "Requirement already satisfied: frozenlist>=1.1.1 in ./.local/lib/python3.10/site-packages (from aiohttp->datasets) (1.4.1)\n",
            "Requirement already satisfied: multidict<7.0,>=4.5 in ./.local/lib/python3.10/site-packages (from aiohttp->datasets) (6.0.5)\n",
            "Requirement already satisfied: yarl<2.0,>=1.0 in ./.local/lib/python3.10/site-packages (from aiohttp->datasets) (1.9.4)\n",
            "Requirement already satisfied: async-timeout<5.0,>=4.0 in ./.local/lib/python3.10/site-packages (from aiohttp->datasets) (4.0.3)\n",
            "Requirement already satisfied: typing-extensions>=3.7.4.3 in ./.local/lib/python3.10/site-packages (from huggingface-hub>=0.21.2->datasets) (4.12.0)\n",
            "Requirement already satisfied: charset-normalizer<4,>=2 in ./.local/lib/python3.10/site-packages (from requests>=2.19.0->datasets) (3.1.0)\n",
            "Requirement already satisfied: idna<4,>=2.5 in /usr/lib/python3/dist-packages (from requests>=2.19.0->datasets) (2.8)\n",
            "Requirement already satisfied: urllib3<1.27,>=1.21.1 in /usr/lib/python3/dist-packages (from requests>=2.19.0->datasets) (1.25.8)\n",
            "Requirement already satisfied: certifi>=2017.4.17 in /usr/lib/python3/dist-packages (from requests>=2.19.0->datasets) (2019.11.28)\n",
            "Requirement already satisfied: python-dateutil>=2.8.2 in ./.local/lib/python3.10/site-packages (from pandas->datasets) (2.8.2)\n",
            "Requirement already satisfied: pytz>=2020.1 in ./.local/lib/python3.10/site-packages (from pandas->datasets) (2023.3)\n",
            "Requirement already satisfied: tzdata>=2022.1 in ./.local/lib/python3.10/site-packages (from pandas->datasets) (2023.3)\n",
            "Requirement already satisfied: six>=1.5 in /usr/lib/python3/dist-packages (from python-dateutil>=2.8.2->pandas->datasets) (1.14.0)\n",
            "Defaulting to user installation because normal site-packages is not writeable\n",
            "Requirement already satisfied: datasets[vision] in ./.local/lib/python3.10/site-packages (2.19.1)\n",
            "Requirement already satisfied: filelock in ./.local/lib/python3.10/site-packages (from datasets[vision]) (3.14.0)\n",
            "Requirement already satisfied: numpy>=1.17 in ./.local/lib/python3.10/site-packages (from datasets[vision]) (1.24.2)\n",
            "Requirement already satisfied: pyarrow>=12.0.0 in ./.local/lib/python3.10/site-packages (from datasets[vision]) (16.1.0)\n",
            "Requirement already satisfied: pyarrow-hotfix in ./.local/lib/python3.10/site-packages (from datasets[vision]) (0.6)\n",
            "Requirement already satisfied: dill<0.3.9,>=0.3.0 in ./.local/lib/python3.10/site-packages (from datasets[vision]) (0.3.8)\n",
            "Requirement already satisfied: pandas in ./.local/lib/python3.10/site-packages (from datasets[vision]) (2.0.0)\n",
            "Requirement already satisfied: requests>=2.19.0 in ./.local/lib/python3.10/site-packages (from datasets[vision]) (2.28.2)\n",
            "Requirement already satisfied: tqdm>=4.62.1 in ./.local/lib/python3.10/site-packages (from datasets[vision]) (4.66.4)\n",
            "Requirement already satisfied: xxhash in ./.local/lib/python3.10/site-packages (from datasets[vision]) (3.4.1)\n",
            "Requirement already satisfied: multiprocess in ./.local/lib/python3.10/site-packages (from datasets[vision]) (0.70.16)\n",
            "Requirement already satisfied: fsspec<=2024.3.1,>=2023.1.0 in ./.local/lib/python3.10/site-packages (from fsspec[http]<=2024.3.1,>=2023.1.0->datasets[vision]) (2024.3.1)\n",
            "Requirement already satisfied: aiohttp in ./.local/lib/python3.10/site-packages (from datasets[vision]) (3.9.5)\n",
            "Requirement already satisfied: huggingface-hub>=0.21.2 in ./.local/lib/python3.10/site-packages (from datasets[vision]) (0.23.1)\n",
            "Requirement already satisfied: packaging in ./.local/lib/python3.10/site-packages (from datasets[vision]) (23.0)\n",
            "Requirement already satisfied: pyyaml>=5.1 in /usr/lib/python3/dist-packages (from datasets[vision]) (5.3.1)\n",
            "Requirement already satisfied: Pillow>=6.2.1 in ./.local/lib/python3.10/site-packages (from datasets[vision]) (9.5.0)\n",
            "Requirement already satisfied: aiosignal>=1.1.2 in ./.local/lib/python3.10/site-packages (from aiohttp->datasets[vision]) (1.3.1)\n",
            "Requirement already satisfied: attrs>=17.3.0 in /usr/lib/python3/dist-packages (from aiohttp->datasets[vision]) (19.3.0)\n",
            "Requirement already satisfied: frozenlist>=1.1.1 in ./.local/lib/python3.10/site-packages (from aiohttp->datasets[vision]) (1.4.1)\n",
            "Requirement already satisfied: multidict<7.0,>=4.5 in ./.local/lib/python3.10/site-packages (from aiohttp->datasets[vision]) (6.0.5)\n",
            "Requirement already satisfied: yarl<2.0,>=1.0 in ./.local/lib/python3.10/site-packages (from aiohttp->datasets[vision]) (1.9.4)\n",
            "Requirement already satisfied: async-timeout<5.0,>=4.0 in ./.local/lib/python3.10/site-packages (from aiohttp->datasets[vision]) (4.0.3)\n",
            "Requirement already satisfied: typing-extensions>=3.7.4.3 in ./.local/lib/python3.10/site-packages (from huggingface-hub>=0.21.2->datasets[vision]) (4.12.0)\n",
            "Requirement already satisfied: charset-normalizer<4,>=2 in ./.local/lib/python3.10/site-packages (from requests>=2.19.0->datasets[vision]) (3.1.0)\n",
            "Requirement already satisfied: idna<4,>=2.5 in /usr/lib/python3/dist-packages (from requests>=2.19.0->datasets[vision]) (2.8)\n",
            "Requirement already satisfied: urllib3<1.27,>=1.21.1 in /usr/lib/python3/dist-packages (from requests>=2.19.0->datasets[vision]) (1.25.8)\n",
            "Requirement already satisfied: certifi>=2017.4.17 in /usr/lib/python3/dist-packages (from requests>=2.19.0->datasets[vision]) (2019.11.28)\n",
            "Requirement already satisfied: python-dateutil>=2.8.2 in ./.local/lib/python3.10/site-packages (from pandas->datasets[vision]) (2.8.2)\n",
            "Requirement already satisfied: pytz>=2020.1 in ./.local/lib/python3.10/site-packages (from pandas->datasets[vision]) (2023.3)\n",
            "Requirement already satisfied: tzdata>=2022.1 in ./.local/lib/python3.10/site-packages (from pandas->datasets[vision]) (2023.3)\n",
            "Requirement already satisfied: six>=1.5 in /usr/lib/python3/dist-packages (from python-dateutil>=2.8.2->pandas->datasets[vision]) (1.14.0)\n"
          ]
        },
        {
          "output_type": "stream",
          "name": "stderr",
          "text": [
            "/home/lucas_ellenberger/.local/lib/python3.10/site-packages/tqdm/auto.py:21: TqdmWarning: IProgress not found. Please update jupyter and ipywidgets. See https://ipywidgets.readthedocs.io/en/stable/user_install.html\n",
            "  from .autonotebook import tqdm as notebook_tqdm\n"
          ]
        }
      ]
    },
    {
      "cell_type": "code",
      "source": [
        "# Use a pipeline as a high-level helper\n",
        "from transformers import pipeline\n",
        "\n",
        "pipe = pipeline(\"image-to-text\", model=\"Salesforce/blip-image-captioning-large\")"
      ],
      "metadata": {
        "id": "9Q_2fY8RXO0B"
      },
      "execution_count": 2,
      "outputs": []
    },
    {
      "cell_type": "code",
      "source": [
        "import requests\n",
        "from PIL import Image\n",
        "from transformers import BlipProcessor, BlipForConditionalGeneration\n",
        "\n",
        "processor = BlipProcessor.from_pretrained(\"Salesforce/blip-image-captioning-large\")\n",
        "model = BlipForConditionalGeneration.from_pretrained(\"Salesforce/blip-image-captioning-large\")\n",
        "\n",
        "# img_url = 'https://storage.googleapis.com/sfr-vision-language-research/BLIP/demo.jpg'\n",
        "# raw_image = Image.open(requests.get(img_url, stream=True).raw).convert('RGB')\n",
        "\n",
        "# # conditional image captioning\n",
        "# text = \"a photography of\"\n",
        "# inputs = processor(raw_image, text, return_tensors=\"pt\")\n",
        "\n",
        "# out = model.generate(**inputs)\n",
        "# print(processor.decode(out[0], skip_special_tokens=True))\n",
        "\n",
        "# # unconditional image captioning\n",
        "# inputs = processor(raw_image, return_tensors=\"pt\")\n",
        "\n",
        "# out = model.generate(**inputs)\n",
        "# print(processor.decode(out[0], skip_special_tokens=True))\n"
      ],
      "metadata": {
        "id": "mnQl2il6XicS"
      },
      "execution_count": 3,
      "outputs": []
    },
    {
      "cell_type": "code",
      "source": [
        "# print the first example on the testmini set\n",
        "print(dataset[\"testmini\"][0])\n",
        "print(dataset[\"testmini\"][0]['pid']) # print the problem id\n",
        "print(dataset[\"testmini\"][0]['question']) # print the question text\n",
        "print(dataset[\"testmini\"][0]['query']) # print the query text\n",
        "print(dataset[\"testmini\"][0]['image']) # print the image path\n",
        "print(dataset[\"testmini\"][0]['answer']) # print the answer\n",
        "dataset[\"testmini\"][0]['decoded_image'] # display the image\n",
        "\n",
        "# print the first example on the test set\n",
        "print(dataset[\"test\"][0])"
      ],
      "metadata": {
        "id": "GkiwvryXOnN-",
        "outputId": "d20310b6-7530-43fd-9246-1c1bda080f1d",
        "colab": {
          "base_uri": "https://localhost:8080/"
        }
      },
      "execution_count": 4,
      "outputs": [
        {
          "output_type": "stream",
          "name": "stdout",
          "text": [
            "{'pid': '1', 'question': \"When a spring does work on an object, we cannot find the work by simply multiplying the spring force by the object's displacement. The reason is that there is no one value for the force-it changes. However, we can split the displacement up into an infinite number of tiny parts and then approximate the force in each as being constant. Integration sums the work done in all those parts. Here we use the generic result of the integration.\\r\\n\\r\\nIn Figure, a cumin canister of mass $m=0.40 \\\\mathrm{~kg}$ slides across a horizontal frictionless counter with speed $v=0.50 \\\\mathrm{~m} / \\\\mathrm{s}$. It then runs into and compresses a spring of spring constant $k=750 \\\\mathrm{~N} / \\\\mathrm{m}$. When the canister is momentarily stopped by the spring, by what distance $d$ is the spring compressed?\", 'image': 'images/1.jpg', 'decoded_image': <PIL.PngImagePlugin.PngImageFile image mode=RGBA size=1514x720 at 0x7FB554C98DF0>, 'choices': None, 'unit': None, 'precision': 1.0, 'answer': '1.2', 'question_type': 'free_form', 'answer_type': 'float', 'metadata': {'category': 'math-targeted-vqa', 'context': 'scientific figure', 'grade': 'college', 'img_height': 720, 'img_width': 1514, 'language': 'english', 'skills': ['scientific reasoning'], 'source': 'SciBench', 'split': 'testmini', 'task': 'textbook question answering'}, 'query': \"Hint: Please answer the question requiring a floating-point number with one decimal place and provide the final value, e.g., 1.2, 1.3, 1.4, at the end.\\nQuestion: When a spring does work on an object, we cannot find the work by simply multiplying the spring force by the object's displacement. The reason is that there is no one value for the force-it changes. However, we can split the displacement up into an infinite number of tiny parts and then approximate the force in each as being constant. Integration sums the work done in all those parts. Here we use the generic result of the integration.\\r\\n\\r\\nIn Figure, a cumin canister of mass $m=0.40 \\\\mathrm{~kg}$ slides across a horizontal frictionless counter with speed $v=0.50 \\\\mathrm{~m} / \\\\mathrm{s}$. It then runs into and compresses a spring of spring constant $k=750 \\\\mathrm{~N} / \\\\mathrm{m}$. When the canister is momentarily stopped by the spring, by what distance $d$ is the spring compressed?\"}\n",
            "1\n",
            "When a spring does work on an object, we cannot find the work by simply multiplying the spring force by the object's displacement. The reason is that there is no one value for the force-it changes. However, we can split the displacement up into an infinite number of tiny parts and then approximate the force in each as being constant. Integration sums the work done in all those parts. Here we use the generic result of the integration.\r\n",
            "\r\n",
            "In Figure, a cumin canister of mass $m=0.40 \\mathrm{~kg}$ slides across a horizontal frictionless counter with speed $v=0.50 \\mathrm{~m} / \\mathrm{s}$. It then runs into and compresses a spring of spring constant $k=750 \\mathrm{~N} / \\mathrm{m}$. When the canister is momentarily stopped by the spring, by what distance $d$ is the spring compressed?\n",
            "Hint: Please answer the question requiring a floating-point number with one decimal place and provide the final value, e.g., 1.2, 1.3, 1.4, at the end.\n",
            "Question: When a spring does work on an object, we cannot find the work by simply multiplying the spring force by the object's displacement. The reason is that there is no one value for the force-it changes. However, we can split the displacement up into an infinite number of tiny parts and then approximate the force in each as being constant. Integration sums the work done in all those parts. Here we use the generic result of the integration.\r\n",
            "\r\n",
            "In Figure, a cumin canister of mass $m=0.40 \\mathrm{~kg}$ slides across a horizontal frictionless counter with speed $v=0.50 \\mathrm{~m} / \\mathrm{s}$. It then runs into and compresses a spring of spring constant $k=750 \\mathrm{~N} / \\mathrm{m}$. When the canister is momentarily stopped by the spring, by what distance $d$ is the spring compressed?\n",
            "images/1.jpg\n",
            "1.2\n",
            "{'pid': '1001', 'question': 'In how many years, is the percentage of labor tax greater than 3 %?', 'image': 'images/1001.jpg', 'decoded_image': <PIL.PngImagePlugin.PngImageFile image mode=RGBA size=981x650 at 0x7FB554C98D30>, 'choices': None, 'unit': None, 'precision': None, 'answer': '', 'question_type': 'free_form', 'answer_type': 'integer', 'metadata': {'category': 'general-vqa', 'context': 'scatter plot', 'grade': 'daily life', 'img_height': 650, 'img_width': 981, 'language': 'english', 'skills': ['statistical reasoning'], 'source': 'PlotQA', 'split': 'test', 'task': 'figure question answering'}, 'query': 'Hint: Please answer the question requiring an integer answer and provide the final value, e.g., 1, 2, 3, at the end.\\nQuestion: In how many years, is the percentage of labor tax greater than 3 %?'}\n"
          ]
        }
      ]
    },
    {
      "cell_type": "code",
      "source": [
        "# Uncomment if you want to see a sample image from the dataset\n",
        "# categories = set()\n",
        "# count = 0\n",
        "# descriptions = []\n",
        "# # for i in range(len(dataset['testmini'])):\n",
        "# for i in range(len(dataset['testmini'])):\n",
        "#     inputs = processor(dataset[\"testmini\"][i]['decoded_image'], return_tensors=\"pt\")\n",
        "#     out = model.generate(**inputs)\n",
        "#     descriptions.append(processor.decode(out[0], skip_special_tokens=True))\n",
        "\n",
        "\n",
        "# # print(descriptions)\n",
        "# addition = {\n",
        "#     'description': descriptions\n",
        "# }\n",
        "# print(\"count: \", count)\n",
        "# print(\"len(testmini): \", len(dataset['testmini']))\n",
        "# print(count / len(dataset['testmini']))\n",
        "# print(categories)\n",
        "# print(len(dataset['test']))\n",
        "# i = 8\n",
        "# print(dataset['testmini'][i]['metadata']['category'])\n",
        "# print(dataset[\"testmini\"][i]['query']) # print the question text\n",
        "# unconditional image captioning\n",
        "# inputs = processor(dataset[\"testmini\"][i]['decoded_image'], return_tensors=\"pt\")\n",
        "\n",
        "# out = model.generate(**inputs)\n",
        "# print(processor.decode(out[0], skip_special_tokens=True))\n",
        "# dataset['testmini'][i]['decoded_image']"
      ],
      "metadata": {
        "id": "20q7Az-FOyE0",
        "outputId": "26166a80-ec7e-4327-c4ad-fb4406facc18",
        "colab": {
          "base_uri": "https://localhost:8080/"
        }
      },
      "execution_count": 6,
      "outputs": [
        {
          "output_type": "stream",
          "name": "stderr",
          "text": [
            "/home/lucas_ellenberger/.local/lib/python3.10/site-packages/transformers/generation/utils.py:1168: UserWarning: Using the model-agnostic default `max_length` (=20) to control the generation length. We recommend setting `max_new_tokens` to control the maximum length of the generation.\n",
            "  warnings.warn(\n"
          ]
        },
        {
          "output_type": "stream",
          "name": "stdout",
          "text": [
            "['diagram of a spring force does negative work, decreasing speed and kinetic energy', 'there is a bowl of flour and eggs on a cutting board', 'a drawing of a triangle with three intersecting sides', 'there are three different colored objects on a white surface', 'a picture of a diagram of a right triangle with a right angle', 'a black and white photo of a number of letters on a line', 'a close up of a clock with a purple background and a white face', 'there are many different types of toys that are on the table', 'a picture of a box with a letter a and a box with a letter b', 'a close up of a cell phone with a number of letters', 'there are many different colored objects arranged in a circle', 'there is a bike and a kite flying in the air', 'arafed graph of different types of objects in different groups', 'there are many toy cars and a car on the table', 'a diagram of a water cycle with different types of water', 'a diagram of sales statistics for items in different stores', 'a picture of a triangle with a side angle of a triangle', 'skier in red jacket skiing down a snowy slope with trees in the background', 'there is a beaker with a red liquid in it', 'a chart showing the percentage of students who are currently in the government', 'two circles with blue dots are shown in the middle of a white background', 'arafed image of a man and two women standing next to each other', 'a graphing line with a point on the center and a line at the bottom', 'a graph showing the number of people who are using the internet', 'a diagram of a line graph with a line of data on it', 'a chart of the number of different colors of ink in different colors', 'two men in suits are holding a book and a microphone', 'a picture shows a circle with a line of intersection and a point of intersection', 'two stained glass windows with a couple of men holding a sword', 'a circle with four intersecting segments and a central angle', 'there are many different toy vehicles and a car on the table', 'a diagram of a triangle with a side angle of a triangle', 'a drawing of a cone with a face and a line of a cone', 'a graphing line with a red dot and a line with a black dot', 'a circle with four intersecting segments and a central angle', 'two men shaking hands in front of flags and a sign', 'a graphing function of a line with a point on the center', 'a graph showing the number of different types of tiles', 'a graphing curve with a blue arrow and a blue arrow pointing upward to the y - y', 'there are many different colored cubes and containers on a table', 'two men in suits shaking hands in front of flags', 'a close up of a person hugging a person in a white shirt', 'a graph showing the average time of a church in new zealand', 'a close up of a table with a number of different types of beads', 'a table with a number of dates and times for each month', 'arafed diagram of life cycle of a spider', 'there are many different colored objects on a white surface', 'a picture of a square with a right angle and a right angle', 'three young men standing next to each other in front of a wall', 'a diagram of a fish life cycle with different types of fish', 'there are many different types of toys and objects on the table', 'a close up of a group of different colored objects on a table', 'there are two people standing next to each other in a room', 'a picture of a number line with a number of digits on it', 'a picture of a triangle with three sides and three angles', 'a diagram of a square with two sides and one side divided', 'there are three different colored balls and a cube on a table', 'a graph of a line graph with a red dot and a yellow dot', 'a diagram of a circle with a center and a center at the end', 'arafed image of a man and woman in a dress', 'a diagram of a line graph with a purple dot and a red dot', 'a diagram of a square with four intersecting sides and four intersecting sides', 'there are many different colored balls and cubes on the table', 'a diagram of a jar with a lot of different colored dots', 'a graphing function of a curve with a red line', 'a diagram of a number of different types of umbrellas', 'a green square with four sides and four sides', 'a diagram of a triangle with a line of intersection and a point of intersection', 'there are many different colored balls and cubes on a table', 'arafed black and white photo of a man and woman sitting on a bench', 'a diagram of a square with the height of the area of the square', 'a table with a number of houses per block and a number of leaves', 'a diagram of a computer system with a number of different symbols', 'a chart of percentage of people who are using their computer', 'a close up of a pie chart with different colors of pie', 'a diagram of the food chain of a fish and other animals', 'a screenshot of a graph showing the number of people who are using social media', 'a picture of a number line with a question mark on it', 'a circle with a center and a center inscribed in it', 'a diagram of a sea life cycle with different animals and fish', 'a close up of a polar chart with a circle on the center', 'a black and white image of a circle with a dot in it', 'there are three different colored toy vehicles and a motorcycle', 'a diagram of a circle with a center and a center with a center and a center with a', \"a chart of average workers working in women's aged and older\", 'a diagram of a line graph with a line graph of a person and a line of data', 'a table with prices of different items and prices of each item', 'a picture of a square is tangent to a line at point p in the figure', 'cars and buses driving down a city street with lots of traffic', 'there are three cups and a ball on the table', 'there are many different colored toys that are on the table', 'there is a large window that looks out onto a city', 'a screenshot of a bar chart showing the number of people who are using the internet', 'a triangle with three sides and three sides that are congructed', 'a diagram of a line with three intersectings and three intersectings', 'a chart of the percentage of people who are disaffified in the district', 'a diagram of a bar graph with different algorithmss', 'a picture of a picture of a number of different shapes', 'cartoon of a woman in a living room with a cat and a window', 'a diagram of a bar chart with a number of different types of toilet', 'a drawing of a diagram of different types of leaves', 'a picture of a square with four squares in it', 'there are two balls and a cube on a table', 'several women standing on a sidewalk with umbrellas in the rain', 'a diagram of a line graph with a bar chart of different colors', 'a chart of a bar chart with the number of values in each column', 'a close up of a clock with a green frame and numbers', 'arafed graph of the number of students who have been selected as a teacher', 'there are many different colored objects on a white surface', 'a chart showing the number of deaths from natural disasters as a share of deads', 'there are many different colored objects on a white surface', 'there are a lot of different toy airplanes and a bus', 'a close up of a bucket of baseballs with a few balls in it', 'a diagram of a circle with a point at the center and a line at the end', 'there are two soccer players on the field playing soccer', 'a close up of a leaf diagram with different leaves', 'a drawing of a triangle with a line going through it', 'a diagram of a curve with a line of data on it', 'a diagram of a circle with a center and a point at the end', 'a graphing plot with a curve and two numbers on it', 'a table with a number of items on it and a price list', 'there are three different types of toys that are on the table', 'a close up of a number of cubes with a number of smaller ones', \"a drawing of a leaf and a flower with the words,'apopie, apop\", 'a diagram of the food chain of a fish and other animals', 'three people in costumes are posing for a picture', 'a diagram of a bar chart with different algorithmss', 'there are several different colored objects on a white surface', 'a close up of a ruler with a plant growing on it', 'arafed woman in a dress and a man in a uniform stand near a table', 'a screenshot of a bar chart showing the number of people who are using social media', 'a triangle with three sides and three sides that are drawn in a line', 'a diagram of a line graph with a green dot and a purple dot', 'there is a man that is standing at a table with a laptop', 'there are two toy airplanes that are on the table', 'a chart showing the percentage of cell phones used by the us government', 'a graphing function of a line with a slope of 3, 3 and a point of 3', 'there is a sandwich with meat and cheese on it on a piece of paper', 'a diagram of a graph with a line of different colors', 'there are a lot of food on the table and a cup of soup', 'a drawing of a triangle with a line drawn in it', 'there is a pizza on a plate on a table', 'a diagram of a triangle with three sides and three sides', 'a table with a number of items for a meal including a pepper, cumin, turm', 'a picture of a picture of a missing item in a game', 'a table with a number of science articles on it', 'a diagram of a jar with a lot of different colored dots', 'a drawing of a line of different types of leaf faces', 'a diagram of a triangle with two angles and one side', 'a drawing of a circle with a triangle and a point on it', 'a diagram of a triangular structure with a line of symmetry', 'a diagram of a triangle with a point at the top and a line at the bottom', 'a close up of a drawing of a bird, a mouse, and a bird', 'a graphing curve with a green line going up to the right', 'a chart of the number of web green index in the us', 'a graphing function of a function that is not a function', 'a close up of a blue and white background with a number of squares', 'arafed couple laying on the grass in the shade', 'a graph showing the number of people in a business setting', 'a picture showing the side of a triangle with the missing side', 'arafed bus on a flatbed on a highway with a cloudy sky', 'a table with numbers and symbols for birds per flock', 'a close up of a green and white background with a number of squares', 'a diagram of a triangle with three sides and three sides', 'there are many different colored objects on a white surface', 'a close up of two different types of shapes and numbers', 'a graphing function of a curve with a blue line', 'a picture of a circle with a letter and a symbol in the middle', 'a graph showing the number of different types of business items sold by business', 'a diagram of a curve with a line of data on it', 'two plates with different types of pastries on them', 'a chart of the number of people who are in the world', 'there are many different types of toys that are on the table', 'there are a few toy cars and a bicycle on a table', 'a diagram of a bar chart with different data types', 'a triangle with the sides of two triangles and the sides of two triangles', 'there are many different toy vehicles and a bicycle on the table', 'a picture of a triangle with three sides and three sides', 'a drawing of a triangle with three sides and three sides', 'there are many different colored objects on a white surface', 'a picture of a picture of a pattern with different shapes', 'a diagram of a graph with a line of data and a line of data', 'there are three balls and three cubes on a white surface', 'a diagram of a bar chart with a purple square in the middle', 'a diagram of a figure with two different angles and one side of the figure', 'a diagram of a beam with a line of force and a point of view', 'a close up of a green and white computer screen with a number of squares', 'a table with a number of different types of calculations', 'a diagram of a bar chart with different datas and data', 'a close up of a ruler with a screw on it', 'a graph showing the number of people in a country with a population', 'a circle with a center and a center inscribed in it', 'there are several different colored objects on a white surface', 'there is a green bus driving down the road on a cloudy day', 'a circle with four intersecting segments and a center with four intersecting segments', 'a triangle with three sides and three sides with the letters a, b, c, and d', 'a chart of a bar chart with a number of columns', 'a set of four triangles with numbers on them', 'a diagram of a cylindrical cylinder with a hole in the middle', 'a graph showing the average and median of a person', 'a diagram of a block with a number of blocks on it', 'a diagram of a bar chart with a number of columns', 'a diagram of a square with a diagonal and a line of reflection', 'arafed room with stained glass windows and a fireplace', 'a table with a baseball score and a baseball score', 'a diagram of a square and a rectangle with a line of symmetry', 'a diagram of a bar graph with different algorithms', 'arafed woman in a black suit and a man in a white shirt and a woman in', 'a graph showing the number of people who are using twitter', 'a black and white photo of three women posing for a picture', 'a diagram of a bar chart with a few different algorithmss', 'a graph showing the average and maximum size of a blue and white box', 'a graph showing the number of people who have visited the internet', 'a graph showing the number of people who have been reported in the past', 'a table with a number of miles hiked days', 'a chart of the number of different objects in the picture', 'a graphing plot of a curve with a line of equal', 'there are three cubes that are sitting on a table', 'a graph showing the number of different types of items in a bar chart', 'a circle with a triangle and a point on the side', 'a circle with a point at the center and a line at the end', 'there are three different colored objects on a white surface', 'a graphed line with a point on the center and a line with a point on the end', 'a graphing curve with a green line going up to the right', 'a diagram of a point on a coordinate with a line of sight and a point on the coordinate', 'a close up of a digital clock with the time on the display', 'a graph showing the number of people who are using the internet', 'a circle with a center and a center at the end of it', 'a close up of a document with a black and white image of a person', 'arafy graph of data and data processing data', 'a close up of a graph with a line graph on it', 'a diagram of a beakle containing a solution and a solution b', 'a close up of a ruler with a metal object on it', 'a triangle with the base of the triangle is shown below', 'a diagram of a curve with a line of equal and a curve of equal', 'a close up of a triangle with a side of a triangle with the side of a triangle with', 'a diagram of the life cycle of a forest food web', 'a close up of a triangle with a red arrow on it', 'a chart of the number of people who are using the internet', 'arafed man and woman shaking hands in front of flags', 'a table with a list of different types of cell phones', 'a picture showing a rectangle with a side of a triangle and a side of a rectangle', 'there is a tray of food that is sitting on a table', 'a diagram of a line graph with a line of data on it', 'a close up of a table with a pizza and a price list', 'a close up of a text description of a water treatment', 'arafed view of a globe with a line of sight and a line of sight', 'there are four different colored plastic toys on a white surface', 'there are several different colored objects on a white surface', 'a diagram of a circle with a center and a center at the end', 'there are many different colored balls and a cube on the table', 'a diagram of a series of resist resist resists and resists', 'a chart of the number of different types of objects in a bar chart', 'there are three different colored toy cars and a bus', 'a triangle with three sides and three sides that are connected by a line', 'a triangle with the name of the triangles is shown', 'a drawing of a square with four squares and four numbers', 'a table with a number of red buttons and a bag of green leaves', 'there are three different colored cubes on a white surface', 'a graph with a blue line and a blue line with a blue line', 'arafed image of two men in military uniforms standing next to each other', 'a screenshot of a bar chart showing the percentage of people who are using social media', 'a close up of a computer screen with a bunch of green squares', 'a diagram of a line graph with a curve of change', 'a close up of a table with a number of push up competition numbers', 'a picture showing the different types of leaves', 'a diagram of the different types of the teeth', 'a close up of a table with a lot of food on it', 'a diagram of a building with a window and a door', 'a circle with a triangle and a point at the center', 'a picture showing a pair of parallel lines with one line cut in half', \"a close up of a clock with the time at 10 o'clock\", 'a diagram of a kite with a line of length and a line of length', 'a circle with a center and a center is inscribed by a triangle', 'a triangle with three sides and four sides that are similar', 'a circle with a line going through it and a point at the end', 'a close up of a cross with numbers and cubes on it', 'a table with a number of different types of data', 'a close up of a drawing of a bird, a mouse, and a bird', 'a picture of a hexagon with a base of a hexagon and a base of', 'araffe pizza in a box with mushrooms and cheese on it', 'cartoon of a man hanging from a metal structure next to a bicycle', 'a close up of a circle with a pentagram and a point on it', 'a diagram of a bar chart with different types of different algorithms', 'a circle with a center and a center inscribed in it', 'a diagram of a triangle with a line of intersection and a point of intersection', 'a diagram of a wave with a sin and a sin', 'a diagram of a graph with a line of data and a graph of data', 'two circles with blue dots are shown in the middle of each', 'a diagram of a line that has two parallel lines', 'a graph showing the number of people who have visited the united states', 'a chart of the number of different types of teas in different countries', 'a diagram of a diagram of the different types of plants', 'a diagram of a square with a red dot on the center', 'a close up of a group of blue circles on a white background', 'a graphed line with a point on the center and a line with a point on the end', 'there is a toy bike and a bus next to a helicopter', 'a diagram of a circular cycle of energy', 'three people sitting in chairs at a panel with water bottles', 'a close up of a circle with the letter h on it', 'a close up of a diagram of a number of different stages', 'a screenshot of a graphing function with a curve and a line of graphs', 'a diagram of a plot with a line graph and a line graph', 'a white sheet with a diagram of a line and a point on it', 'a chart of the number of people who are most preferred objects', 'cartoon of a woman sitting at a table with a cat in a bowl', 'a diagram of a bus traveling down a road with a wall and path', 'a diagram of a wave with a number of waves on it', 'a table with a number of actors per movie', 'a diagram of a triangle with a line going through it', 'there is a man and woman standing next to a dog', 'a table with prices of idaho crop prices per cvt', 'two men sitting at a table in a room with a flag', 'a diagram of a bar chart with different colors and sizes', 'a triangle is shown with the side lengths of the triangle', 'a circle with a point on the center and a line of sight on the outside', 'two men in suits shaking hands in front of a wooden wall', 'a diagram of a right angled triangle with a height of 45 feet', 'there is a toilet in the middle of a tree stump', 'a triangle with three sides and three sides that are congructed', 'a table with prices of different items and prices of prices', 'a drawing of a triangle with a line of three points and a line of three points', 'a table with two different colors of green and red', 'a screenshot of a bar chart showing the percentage of people who are using facebook', 'a graph of a line graph with a purple dot and green dots', 'a close up of a pencil and ruler with a number on it', 'arafed graph of sales statistics for items in different stores', 'a diagram of a bar chart with different datas and different data', 'a graphing plot with a curve and a line that is going through it', 'there are many different colored balls and cubes on a white surface', 'a table with a number of web pages and a number of web pages', 'a table with a number of miles driven by a car', 'a picture of a triangle with a side of a right triangle', 'there are many different toy cars and vehicles on the table', 'there are three different colored containers sitting on a table', 'a diagram of a bar chart with a number of bars', 'a close up of a digital clock with the time on it', 'a triangle with three sides and three sides that are not parallel', 'a circle with a point on the center and a line of inscribed circles', 'a close up of a table with a number of different items', 'a close up of a digital clock with a red frame', 'a triangle with a side angle of 90 degrees and a side angle of 70 degrees', 'there are many different colored objects on a white surface', 'there are many different toy vehicles and a car on the table', 'a close up of a group of kites flying in the sky', 'a graphed curve with a red line and a red line on the opposite side', 'there are two toy cars that are sitting on a table', 'there is a pizza with pepperoni, mushrooms, and onions on it', 'a diagram of a bar chart with a number of different graphs', 'a close up of a ruler with a number on it', 'there are many toy cars and a plane on the table', 'arafed bus with a leaf design on the side of it', 'a diagram of a water tank with a pipe pouring water into it', 'a graph showing the percentage of different algorithmss in a computer', 'a diagram of two parallel lines with one line at the end', 'there are many different colored paper airplanes on a white surface', 'a diagram of a graph with a line of data and a line of data', 'a close up of a number of dice pieces with numbers on them', 'a table with a number of shells and a number of shells', 'a close up of a triangle with a line going through it', 'four gold metal objects with blue stones on them', 'there are several different colored objects on a white surface', 'there are three different colored cylinders on a white surface', 'a circle with a center and a center inscribed in the middle', 'there are many different colored objects on a white surface', 'soccer players celebrating a goal on a soccer field', 'two men shaking hands in front of flags and a black backdrop', 'there are two toy cars and a car with a car shaped like a bus', 'a graphing function of a line with a slope of 3, 3 and 3, 3', 'a diagram of a forest with animals and plants in it', 'a triangle with three sides and three sides that are congructed', 'there are three balls and a sphere on a table', 'a triangle with three sides and three sides that are congructed', 'a diagram of a bar graph with different algorithmss', 'a picture showing a triangle with a side angle of 5 and a side angle of 5', 'there are many different colored objects on a white surface', 'a chart of the number of people who are using the internet', 'a triangle with three sides and three sides that are congructed', 'arafed diagram of a deer, bear, and horse in a forest', 'a graph showing the number of people who are using facebook', 'there are many different toys that are on the table', 'there is a vase with feathers on a table in front of a window', 'a screenshot of a bar chart showing the number of people who are using twitter', 'arafed woman in a dress standing next to two men and a woman in a dress', 'a graph of a line graph with a green line and a blue line', 'a picture of a triangle with a side of 20 and a side of 20', 'there is a woman that is standing on a tennis court with a racket', 'a picture showing the angle of a right triangle with the missing side', 'a table with prices of the different products and prices of each product', 'there are two toy cars and a plane on a table', 'a drawing of a circle with a pentagram and a circle with a triangle', 'a table with a number of items and a weight list', 'a screenshot of a bar chart showing the number of people who are in the united states', 'a table with a number of different types of medical equipment', 'people are flying kites in a field with a castle in the background', 'a diagram of a bird and its food web', 'a circle with three intersectings and a point on the center', 'arafed black and white photo of a man and woman in a library', 'a close up of a triangle with two sides divided', 'a diagram of a graph with a line graph and a line graph', 'a diagram of a bar chart with a red dot on the bottom', 'a diagram of a food web with animals and plants', 'a picture shows a diagram of a circle with a point at the center', 'a table with a list of activities for skating', 'two women sitting on chairs in front of a microphone and a microphone stand', 'a close up of a group of snowmen with hats and scarfs', 'a triangle with three sides and three sides that are connected by a line', 'a picture showing the side of a triangle with the missing side', 'a circle with a center and a center on it with a line going through it', 'a close up of a triangle with a blue triangle on it', 'a graph showing the average number of people in each country', 'a close up of a table with a lot of items on it', 'a triangle with three sides and three sides that are congructed', 'a close up of a triangle with a red arrow on it', 'a graph showing the number of people who have visited the internet', 'there is a red blender sitting on a white table', 'arafed black and white photo of a man and woman posing for a picture', 'a diagram of a snake eating a grasshopper and other insects', 'a close up of a clock with a green frame and numbers', 'a close up of a graph with a bar chart on it', 'a diagram of a elevator cable with a door open', 'a close up of a bar chart with a number of columns', 'a diagram of a graph showing the different levels of dark gray', 'there is a plate with a piece of pizza on it', 'a triangle with a side angle of a right triangle and a right triangle with a side angle of', 'a triangle with three sides and three sides that are congructed', 'a chart of the number of people who are preferred objects in the project', 'there is a man and woman dancing together in a room', 'a chart of the number of objects in the picture is shown', 'a graphing line with a point on the center and a line at the bottom', 'a diagram of a fish and other animals that are in the water', 'a graph showing the average number of children with age under 2 years', 'arafed black and white photo of a man and woman in military uniforms', 'a triangle with a line drawn to the side and a point on the side', 'a graph showing the number of students in each school', 'a diagram of a bar chart with data and data in it', 'a diagram of a computer with a keyboard and a monitor', 'they are two men standing next to each other in front of a brick wall', 'a plot of a curve with a cone on top of it', 'there is a plate of food with rice and a fork on the table', 'a diagram of a triangle with three sides and three smaller sides', 'arafed graph of different categoriess of different categories', 'a drawing of a triangle with a line that is drawn to the right', 'a close up of a pie chart with a pie chart in the middle', 'a diagram of a bar chart with different colored bars', 'a triangle with three sides and three sides that are congructed', 'a graph showing the number of people in a group of different groups', 'a chart showing the number of schools that are currently in india', 'there is a man riding a motorcycle down the road with a bag on the back', 'a diagram of a snake eating a grasshopper and other insects', 'there are four toy cars that are sitting on a table', 'a plot of a line with a curve and a line with a curve', 'a close up of a ruler with a number on it', 'a diagram of a bar chart with a number of different types of people', 'a picture of a circle with a center and a center is shown', 'a pie chart of the percentage of people who are in the united states', 'a close up of a blue and white building with a clock on it', 'several young men playing soccer on a soccer field with a goal', 'there are three balls and two cubes on a table', 'a diagram of food chain with a bird and a frog', 'a diagram of a circuit with a timer and a timer', 'a diagram of a bar chart with a blue bar and a white bar', 'there are two balls and a cube on a table', 'a picture of a picture of a number of different fractions', 'a graph showing the number of different types of lights in a room', 'a diagram of a graph with a line of data indicating the time of the experiment', 'a diagram of a circle with a center and a center at the end', 'a diagram of a bar chart with the most preferred objects', 'a chart of pie chart with different colors and sizes', 'a diagram of a line graph with a curve of time and a line of time', 'a table with a number of score cards on it', 'a close up of a group of circles with a blue dot', 'there are two soccer players standing on the field talking', 'cars and motorcycles are stopped at a traffic light on a busy street', 'a close up of a ruler with a number on it', 'a diagram of a food web with animals and plants', 'a close up of a clock with an arrow pointing to the right', 'a diagram of a square with four sides and four sides', 'a graph showing the percentage of people who have been insured in western europe', 'there are many different toy cars and bicycles on the table', 'two women standing next to a hut on a beach', 'a circle with a center and a point at the end of it', 'a circle with a center and a center at the end of it', 'a close up of a group of circles with a white background', 'a drawing of a triangle with three sides and three sides', 'a diagram of a square with three intersecting sides and a line of symmetry', 'there are three toy cars that are sitting on a table', 'there are two balls and a cube on a table', 'a picture of a triangle is shown with the sides of the triangle', 'a diagram of a line with a point at the end of it', 'a graph showing the percentage of people who are using a computer', 'a circle with a center and a center inscribed in the middle', 'a graph of a line graph with a blue line and a red line', 'a close up of a ruler with a number on it', 'there are a lot of toy cars and a toy airplane on the table', 'a diagram of a bar chart with a number of different levels', 'a graph showing the number of different types of ice in a cup', 'there are many sheep and chickens standing in the grass', 'a picture shows a rectangle with a diagonal and a rectangle with a diagonal', 'a black and white photo of two ballerinas in tutues', 'there are many different colored objects on a white surface', 'there are many different items that are on the table', 'two men shaking hands with a man in a suit and tie', 'a triangle with three sides and three sides that are congructed', 'a circle with a line of radius and a point of intersection', 'a chart of the number of people who have been reported in the u s', 'a diagram of a snake eating a grasshopper and other insects', 'a table with a number of guests and a date', 'a close up of a pie chart with a circle on the bottom', 'a triangle with three sides and three sides that are not side by side', 'a chart of the number of people who are different from one another', 'a diagram of a triangle with a point at the top and a line at the bottom', 'map of the percentage of recommended states in the usa', 'a close up of a drawing of different types of leaves', 'a diagram of a fish life cycle with a seagull and other animals', 'there is a red fire hydrant on the side of the road', 'a table with a number of employees with health care benefits', 'two men sitting on a bench talking to each other', 'a close up of a triangle with a red triangle in the middle', 'a diagram of a line graph with a line of data on it', 'a circle with a center and a line of intersection is shown', 'a close up of a ruler with a number on it', 'a black and white photo of a tree with a triangle on it', 'a table with a number of times and a few times', 'a close up of two graphs with a line graph on them', 'a close up of a guitar fret with a guitar pick and a guitar pick', 'there are many toy cars and a motorcycle on a table', 'a diagram of a triangle with a line that is parallel to the other side', 'there is a clock that is sitting on a table', 'a table with a number of bills and a city', 'a close up of a clock with a purple frame and numbers', 'there are various objects that are on a table together', 'there are four different colored containers sitting on a table', \"a diagram of a plot with a line graph of children's ages\", 'a diagram of a bar chart with different colors and numbers', 'a circle with three intersectings and a triangle inside it', 'there are many different toys that are on a table', 'a circle with a question mark in the middle', 'a picture of a triangle with three sides and three sides', 'a close up of a blue and white circle with a white background', 'a close up of a number of different shapes and sizes', 'a graph of a line graph with a line of data on it', 'there are many different items that are on the table', 'a close up of a pie chart with a pie chart in the middle', 'a graph showing the number of people who are using the internet', 'a close up of a graph with a line graph on it', 'arafed diagram of a food web with animals and plants', 'there are three toy vehicles and a bus on a table', 'a circle with a center and a center is inscribed by a line', 'a diagram of a bar graph with the number of different algorithmss', 'a screenshot of a bar chart showing the number of people who are using social media', 'a close up of a text description of a computer system', 'a close up of a pie chart with different colors of chocolate', 'a chart of the number of people who are in the world', 'there is a bird sitting on top of a tree branch', 'there are various toy airplanes and a bus on a table', 'a triangle with three sides and three sides that are congructed', 'a graph of a bar chart with a blue bar and a white bar', 'a close up of a watch on a white surface with a white background', 'a close up of a graph with a line going up and a line going down', 'there are many different types of toys that are on the table', 'there are two different colored objects on a white surface', 'there is a man laying in a hospital bed with a monitor on', 'a diagram of a plot with a line of data and a dotted line of data', 'a close up of a number of different plots with different data', 'a triangle with three sides and three sides that are congructed', 'a close up of a ruler with a cartoon of a green worm on it', 'a table with prices of cars and bikes for the city', 'a close up of a sheet of paper with a graph on it', 'there are three balls and a plastic object on a table', 'a diagram of a line graph with a bar chart and a line graph with a bar chart', 'a plot of a line graph with a curve of a curve', 'a table with a number of lapss and a time of day', 'a picture of a number line with different shapes and numbers', 'a diagram of a triangle with three intersecting sides and three intersecting sides', 'a diagram of the human brain with the major parts labeled', 'a black and white image of a number line with a letter b', 'a close up of a purple and white background with squares', 'a graph showing the number of individuals involved in ship transport', 'a chart of the number of people who are using the internet', 'there are three different colored objects on a white surface', 'a graph showing the number of people who are using the internet', 'a picture shows a triangle with a side angle of 2 and a side angle of 2', 'a table with a list of donations for a charity', 'a square with a line of intersection and a line of intersection', 'a triangle with three sides and three sides that are congructed', 'a diagram of a triangle with a line going through it', 'a close up of a sheet of paper with numbers and figures', 'there are many different toy vehicles and a bicycle on a table', 'there are two people sitting at a table in a room', 'there are three women and a man standing together in front of a fire truck', 'a graphing wave is shown with the same amplitude as the other wave', 'a screenshot of a bar chart showing the number of people who are using social information', 'arafed graph of government expenditure spending, including the u s gdp and gdp', 'a close up of a pie chart with different colors of chocolate', 'a diagram of a bar chart with a bar chart of the number of people in each of the', 'a chart of the number of people who have visited the united states', \"a close up of a bird's head with different types of beaks\", 'a picture of a triangle with a side of a triangle and a side of a triangle', 'a diagram of a box with a number of different shapes', 'a chart of a pie chart with a pie chart of the countries', 'a picture of a rectangle is divided into two identical squares', 'a diagram of a line graph with a curve of change', 'a diagram of a line graph with different colored dots', 'there are several different colored objects on a white surface', 'a diagram of a square with three sides and three sides', 'there are three different colored objects on a white surface', 'a map of the united states with the highest health insurance coverage', 'there are two different colored objects on a white surface', 'a picture of a diagram shows a circle with a center and a center at the center', 'a table with a number of boxes and a box of equipment', 'there are three different colored objects on a white surface', 'there are two pictures of a row of houses with pencils in them', 'two men in suits sitting next to each other in a chair', 'a triangle with the base of a triangle and the base of a triangle with the base of a', 'a chart of the number of people who are using twitter', 'a diagram of a curve with a y and a y on it', 'a close up of a pie chart with different colors of the pie', 'a graphing curve with a green line going up to the right', 'a close up of a ruler with a metal object on it', 'a triangle with a number of triangles on it and a number of smaller triangles', 'a triangle with three sides and three sides that are congructed', 'a close up of a pink digital clock with a black frame', 'a graph showing the number of people who are in the country', 'there are many different types of toy trains and cars on the table', 'there is a egg and a plastic object on a table', 'a table with a number of different score cards on it', 'a diagram of a square with four sides and four sides', 'a diagram of a bar chart with the most preferred objects', 'a triangle with the sides of two triangles and the sides of two triangles', 'a chart of a bar chart with a number of columns', 'a chart showing the percentage of women who are more interested in politics', 'a diagram of a line with three intersecting points and three intersectings', 'a diagram of a line that is perpendicular to a line that is parallel', 'a drawing of a triangle with three sides and four sides', 'a close up of a computer screen with a bunch of green blocks', 'a picture of a diagram of a rectangle with a line of intersection', 'a diagram of a bar chart with a line graph of the number of individuals in the eu', 'there is a dirty stove top with a dirty pan on it', 'a close up of a clock with a blue circle on it', 'a graph that shows the slope of a curve and the number of seconds', 'a diagram of a circle with a center and a center at the end', 'a diagram of a circle with a point at the center and a point at the end', 'a triangle with three sides and three numbers on it', 'a picture of a triangle with three sides and three sides', 'a table with a number of items on it and a list of items', 'a poster with a number of different colored blocks and a number of smaller blocks', 'a diagram of a curve with a line of data on it', 'a chart showing the most americans say reproos of sexual', 'a screenshot of a graph showing the number of people who are using twitter', 'a table with a number of winners in the nobel prize', 'three women in dresses are standing in front of a bird', 'arafed man in a blue shirt and black shorts playing tennis', 'there are many different toy cars and motorcycles on a table', 'arafed graph of the number of people who have been reported in the search for a flight', 'a chart of the number of people who are using the internet', 'arafed map of the united states with the number of persons in the usa', 'a close up of a ruler with a number on it', 'a screenshot of a bar chart showing the number of people who are using the internet', 'there are a lot of toys that are on the table', 'a graphed line with a curve and a point at the end of it', 'a graph showing the average and average numbers of different algorithms', 'a close up of a clock with a blue background and a white face', 'a table with a number of calculations and a question', 'a picture of a triangle with the base of a right triangle', 'there are three different colored cubes and one is a green one', 'a screenshot of a bar chart showing the number of people who have been paid', 'a map of the united states with the highest health coverage coverage', 'a close up of a black and white photo of a line of scissors', 'a sheet of paper with a list of various items and numbers', 'a diagram of a half circle with a point on the side', 'a close up of a ruler with a plant growing on it', 'there are many different toy cars and motorcycles on a table', 'a diagram of a square with a right triangle and a right triangle', 'a drawing of a triangle with a side angle of two', 'arafed bar chart showing the number of items in each of the three sections', 'there are many different types of toys that are on the table', 'a close up of a triangle with a side of a triangle on it', 'a diagram of a triangle with three intersecting sides and three intersecting sides', 'two men sitting at a table with a typewriter and a typewriter', 'arafly parked airplane on tarmac with loading platform and loading platform', 'arafed image of a diagram of a group of animals', 'a close up of a ruler with a screw on it', 'a close up of a circle with a line drawn in it', 'a diagram of a bird and a fish that are different types of food', 'a graphing function of a curve with a blue line going through it', 'a diagram of a fish life cycle with different types of fish', 'a close up of a book with a graph on it', 'people sitting in chairs watching a woman on a laptop', 'a diagram of a line with three intersectings and a point at the end', 'a close up of a number and a square with a question mark', 'a diagram of the different types of food that are in the food chain', 'there is an orange sitting on the side of the road', 'a diagram of a parallel line with two intersecting lines', 'a chart of the number of people who are in the world', 'a close up of a table with prices of motorcycles and snowmobiles', 'a diagram of a triangle with two sides and a line of symmetry', 'a picture of a triangle is shown with the base of the triangle', 'there are three soccer players standing on a blue platform', 'a circle with a center and a center inscribed in the middle', 'a close up of a ruler with a number on it', 'a diagram of a line graph with a curve of change', 'a screenshot of a bar chart showing the number of people who are using the internet', 'a close up of a number of squares with different colors', 'a close up of a chest with a radiograph showing the ribs', 'a graphing board with a line of coordinates and a point of intersection', 'a picture of a diagram of two parallel lines with one line at the end', 'a triangle with three sides and three sides that are connected by a line', 'a graphing line with a point on the center and a line at the bottom', 'there are three people posing for a picture together in the picture', 'three men standing next to each other in front of a city', 'a triangle with 3 yd and 3 yd in the middle', 'a close up of a triangle with a side of a triangle with a side of a triangle with', 'there are three toy cars and a bicycle on a table', 'a graphing function of a curve with a blue line', 'a triangle with a side angle of 10 and a side angle of 10', 'a graphing curve with a point at the center and a line at the bottom', 'a close up of a table with a number of different items', 'a table with a list of daily temperatures and days', 'a graphed coordinate with a line of coordinates and a red line', 'a graphing function of a curve with a line of three equals', 'a chart of the number of people who are using the internet', 'a diagram of a curve with a line going up and down', 'a diagram of a line graph with a line graph of different colors', 'a diagram of a ball moving past a frame with a line of symmetry', 'a picture showing a circle with a line that is in the middle of it', 'a graph showing the number of hours each day of the day', 'a close up of a ruler with a number on it', 'a diagram of a bar chart with a few different datas', 'a screenshot of a bar chart showing the number of people who are using the internet', 'a table with a number of passengers per train and a stem leaf', 'a close up of a diagram of different types of animals', 'a diagram of a triangle with a line that is perpendicular to the center', 'there are three toy cars and a toy airplane on a table', 'there are two toy cars and a toy plane on a table', 'a diagram of a triangle with two sides and a line that is parallel', 'a diagram of a rectangle with a side of a square and a side of a rectangle', 'a plot of a line graph with a number of dots on it', 'a table with a number of items on it including a pan, baking dish, casserole', 'there are many people watching a baseball game in progress', 'spencer tracy - the man who shot the gun', 'a close up of a ruler with a plant growing on it', 'a screenshot of a graph showing the number of people who have visited the site', 'a close up of a triangle with three arrows on it', 'two women shaking hands in a room with chairs and a table', 'a table with a number of entries and a table number of entries', 'a close up of a circle with the letters k and m in it', 'a diagram of a circle with a center and a center at the end', 'a triangle with three sides and three sides that are congructed', 'a diagram of a number line with a question mark in the middle', \"a diagram of the stages of a human's life cycle\", 'a circle with a point at the center and a line at the end', 'a close up of a bar chart with a number of columns', 'a diagram of a bird and other animals that are connected to each other', 'a graphed line with a point on the center and a line with a point on the end', 'a diagram of a food web with animals and plants', 'a picture of a circle with a line that is drawn in it', 'there are many different types of toys that are on the table', 'a close up of a ruler with a metal object on it', 'there are many different toy vehicles and a bus on a table', 'a diagram of the life cycle of a plant', 'a graphing curve with a curve of three different lengths and a number of different numbers', 'there are many different colored objects on a white surface', 'there are many bunches of bananas hanging from a red wall', 'a close up of a graph with a line graphing down', 'there are a few different items that are on a table', 'a circle with a line going through it and a point on the center', 'a graph of average temperature in rome, italy', 'a diagram of a beaker containing a solution and a solution b', 'a diagram of a wave with a number of waves on it', 'a diagram of food chain with a bird and a frog', 'there are a lot of toys that are on the table', 'a circle with a center and a center at the end of it', 'there is a motorcycle with a car and a car keychain on it', 'a plot of a line graph with a red dot and a white dot', 'a close up of a triangle with a blue line and a pink line', 'a picture shows a triangle with a side of a triangle and a side of a triangle with a', 'a picture of a picture of a set of shapes with a question mark', 'a close up of a chest with a radiograph showing the chest', 'a diagram of a four - way switch with numbers and symbols', 'a close up of a triangle with a blue line on it', 'a square with a star and a question mark on it', 'a diagram of a rectangular prism with three sides and three diagonals', 'a graph showing the number of individuals in a population', 'a diagram of a fish and aquatic life cycle', 'a diagram of a rectangle with the sides marked in blue', 'zebras standing in a field with a baby zebra in the foreground', 'two men shaking hands in front of a podium with a red carpet', 'a bar chart showing the number of people who are in the hospital', 'a triangle with three sides and three sides that are congructed', 'a diagram of a circuit with a resist and a resist', 'there are two people standing next to each other in a room', 'a table with a number of different types of medical devices', 'a diagram of a bar chart with a few different columns', 'arafed man and woman standing on a porch with a cane', 'there are three people standing together at a film festival', 'a worksheet showing the symbols for different shapes and numbers', 'a picture of a diagram with three intersectings and a line that is parallel', 'a close up of a table with prices of different items', 'a plot of a plot of a plot of a plot of a plot of a plot of a', 'a table with a number of car wheels on it', 'a close up of a table with a lot of food on it', 'a close up of a bar chart with a number of different colors', 'a picture showing the area of a circle with a center and a center', 'there is a white plate with a donut on it', 'a circle with a center and a center at the end of it', 'a close up of a diagram of different types of windsocks', 'there are many different colored objects arranged in a circle', 'a close up of a cell phone with a number on it', 'there are many different colored cubes and spheres on a white surface', 'a close up of a table with a number of lemon flavored candies', 'a bar chart showing the percentage of americans who are most likely to be in the middle east', 'a black and white photo of a graph with a line of data', 'a diagram of a bar chart with a number of different types of food', 'a picture shows a circle with a center and a radius inscribed in the middle', 'a picture showing a circle with two sides and a half of it with the same side', 'a diagram of a line that is parallel to a line that is parallel', 'a line graph showing the number of people voting in the presidential election', 'a close up of a blue triangle with a line going through it', 'a close up of a triangle with a blue line on it', 'boy on a skateboard doing a trick on a rail', 'a diagram of a rectangular prism with a line of length between the top and bottom', 'a close up of a diagram of different types of animals', 'a close up of a table with a price list for a candy', 'there are many different types of toys that are on the table', 'a diagram of the lungs and the lungs of a person', 'a close up of a number of squares with a question mark', 'a close up of a table with a number of different items', 'there is a cross with four yellow balls on it', 'two men in suits are standing next to each other and one is raising his hand', 'a table with words written in different languages and numbers', 'a graphing function of a curve with a blue line', 'a white background with a black and white image of a chemical structure', 'a map of the united states showing the percentage of people living in each state', 'three people on skis standing on a snowy slope with trees in the background', 'a diagram of a man standing next to a fish and a fish', 'there are two toy cars and a toy airplane on a table', 'there is a man and woman sitting next to each other', 'a screenshot of a bar chart with a number of people in the background', 'there are many glasses of wine and a plate of meat and cheese', 'a table with a number of stuffed animals on it', 'a diagram of a triangle with three sides and three sides', 'a graph showing the number of people who are using the internet', 'cartoon of a man sitting on a couch in a living room', 'two men in military uniforms shaking hands in front of flags', 'a chart of the number of people who are using the internet', 'a close up of a graph with a curve and a line with a log', 'a graph showing the number of tables and the number of tables in each table', 'a white background with a black and white image and a gray and white image', 'there are three different types of toy vehicles and a motorcycle', 'a graph showing the number of individuals in each country', 'a close up of a number of circles with a question mark', 'a triangle with three sides and three sides that are congructed', 'a diagram of the food chain of a fish and other animals', 'a diagram of a line that has two parallel lines and one line that has two parallel lines', 'a drawing of a plant with leaves and a compound', 'a diagram of a square with a number of values in it', 'a diagram of a fish and other animals that are connected to each other', 'there are two men in suits standing next to each other', 'a table with a number of items on it and a table with numbers', 'a diagram of a line graph with a red, blue, and green dot pattern', 'a diagram of a bridge with a ramp and a water pool', 'arafed map of the united states with the percentage of service in the usa', 'there are two men in uniform standing next to each other', 'a diagram of a plot with a red dot and a light blue dot', 'a picture of a triangle with a line that has the same length as a rectangle', 'a table with a number of pizzas and a price of pizza', 'there are several different shapes and sizes of objects on the table', 'there are three different colored objects on a white surface', 'there are many different toy cars and a toy boat on the table', 'a close up of a ruler with a metal object on it', 'a close up of four squares with different shapes and numbers', 'a close up of a bar chart with different types of items', 'a graphing line with a red dot and a line with a black dot', 'three different colored cylinders are arranged in a row on a white surface', 'a circle with a triangle inside of it and a letter in the middle', 'a diagram of a bar chart with different types of algorithms', 'a diagram of a square with two sides and two sides', 'there are three different colored objects on a white surface', 'a chart of the number of people who are in the ocean', 'a diagram of a snake eating a grasshopper and other insects', 'a graph showing the average time of a person to use a laptop', 'a set of four oval shaped numbers with a red line', 'people are flying kites in a park on a sunny day', 'a table with a number of pieces of pepperoni per pizza', 'a table with a number of stores in each town', 'a circle with a point and a point at the center', 'there are three different colored cylinders and a green ball on a white surface', 'a close up of a pie chart with different colors of the pie', 'a picture illustration of a solar eclipse with the sun and earth in the same direction', 'a diagram of a bar chart with data and data in it', 'arafed map of the united states with the highest number of hospital beds per 1, 000', 'a graphing function of a line with a slope of 2 and a point of 4', 'a diagram of a bar chart with different algorithmss', 'a diagram of a number of different types of radio signals', 'a chart of items sold by price level', 'a close up of a triangle with the letters j and k on it', 'a circle with a center and a center at the end of it', 'a close up of a crib with numbers on it', 'there are many different toys that are on the table', 'a close up of a group of different colored objects on a white surface', 'a diagram of the different shapes of a leaf', 'a circle with three intersectings and a point on the center', 'a close up of a green and white circle with a white background', 'there are three different colored bicycles and a car on a table', 'a chart showing the percentage of alcohol consumption per person, 2016', 'a graph showing the number of military expenditures that are currently in the u s', 'a diagram of the life cycle of a frog', 'a triangle with three sides and three sides that are congructed', 'there are three different colored objects on a white surface', 'cartoon of a boy playing with a dog in a living room', 'several men in suits standing in front of a flag in a room', 'a diagram of a line graph with different colored dots', 'there are many different colored objects on a white surface', 'a diagram of a life cycle of animals and their habitats', 'a diagram of a triangle with a point and a circle with a point', 'a graph showing the number of people in a business versus property in malaysia', 'a close up of a square with a question mark in the middle', 'a diagram of a bar chart with a lot of items in it', 'a triangle with a side of a triangle and a side of a triangle with a side of a', 'a close up of a circle with a blue line going through it', 'a chart of a bar chart with different levels of print', 'a table with a number of different numbers of different items', 'a diagram of a graph with a line of data and dots', 'a close up of a table with a number of breads and bread crumbs', 'a diagram of a half circle with a point on the side', 'a triangle with a side angle of a triangle and a side angle of a triangle', 'a close up of a table with a lot of items on it', 'a close up of a table with a lot of items on it', 'a triangle with a point on the side and a line of sight on the other side', 'a circle with a center and a center inscribed in it', 'a drawing of a whale with its mouth open and a body of water', 'a close up of a table with a lot of different packages', 'a diagram of a bar chart with a few different types of candles', 'a diagram of a triangle with three sides and three sides', 'three women sitting next to each other smiling for a picture', 'a graph showing the number of people who are using the internet', 'a diagram of a line with three different angles and one point at the end', 'a diagram of a fish and other animals that are connected to each other', 'a close up of a group of different colored objects on a white surface', 'a close up of a ladder with numbers on it', 'a graphing curve with a curve of three different lengths and a number of different numbers', 'a graph showing the number of people who are in the area', 'a triangle with the base of a triangle and the base of a triangle', 'there are two men standing next to each other on a train', \"arafed president obama and myanmar's president in a meeting\", 'a diagram of a triangle with three sides and three angles', 'a table with a number of blocks and numbers on it', 'a chart showing the percentage of people who are using social media', 'a graphing curve with a green line going up to the right', 'a picture showing a circle with a line that is drawn to the side', 'a diagram of a fish and aquatic life cycle', 'cartoon of a man and woman riding on a red scooter', 'a diagram of a tree with several different types of trees', 'a circle with a center and a center inscribed in it', 'there are several different colored balls and cubes on a white surface', 'there are three toy airplanes and a bus on a table', 'a close up of a square with a question mark on it', 'a table with a number of desks and numbers on it', 'two men in suits sitting in chairs in a room with flags', 'a screenshot of a bar chart showing the percentage of americans who have been nominated for their job', 'a plot of a line that is going through a curve', 'a diagram of a curve with a line going through it', 'a close up of a ruler with a number on it', 'arafed view of a football game with a crowd watching', 'a close up of a pencil and ruler with a number on it', 'a graph showing the average time of a person to go to a destination', 'there are several different colored objects on a white surface', 'a graph of a line graph with a green dot and a blue dot', 'a diagram of a line that is parallel to two other lines', 'cartoon of a man standing in a living room next to a couch', 'there are three toy cars and a motorcycle on a table', 'a graphing plot with a curve and a line that is going through it', 'there are three toy cars and a bus and a plane', 'there are several different colored objects on a white surface', 'there are three different types of toy cars and a bus', 'a picture of a triangle with a line that is parallel to the other side', 'a table with a number of miles of miles and a bike', 'a close up of a number of orange squares with a white background', 'there is a clock on the side of a building on a street', 'a screenshot of a graph showing the number of people who are using social media', 'arafed map of the united states with the highest hospital visits per 1', 'a close up of a diagram of a number of different datas', 'there are three toy cars that are sitting on a table', 'a chart showing the number of people who are using social media', 'a triangle with a side angle of 3 and a side angle of 3', 'a diagram of a curved mirror with a height of 200 cm', 'several men sitting at a table with papers and pens', 'arafed chart of different objects in different categoriess', 'a picture shows a circle with a center and a center at the end of it', 'a screenshot of a computer screen showing a graphing function', 'there are various toy cars and a bus on a table', 'there are many different colored objects on a white surface', 'a diagram of a line graph with a line of data on it', 'a screenshot of a bar chart showing the number of people who are in the united states', 'there are three different colored cubes and a blue ball on a table', 'a diagram of a curve with a line of length and a point of interest', 'a diagram of a tree with three branches and three letters', 'a diagram of a curve with a y and a y on it', 'a close up of a group of different colored objects on a table']\n"
          ]
        }
      ]
    },
    {
      "cell_type": "code",
      "source": [
        "import pandas\n",
        "\n",
        "# df = pandas.DataFrame.from_dict(addition)4\n",
        "import os\n",
        "# os.makedirs('prompts/testmini', exist_ok=True)\n",
        "# df.to_csv('prompts/testmini/prompts.csv')"
      ],
      "metadata": {
        "id": "NEIpK7D0YxIv"
      },
      "execution_count": 7,
      "outputs": []
    },
    {
      "cell_type": "code",
      "source": [
        "train_prompts = []\n",
        "\n",
        "for i in range(len(dataset['test'])):\n",
        "    inputs = processor(dataset[\"test\"][i]['decoded_image'], return_tensors=\"pt\")\n",
        "    out = model.generate(**inputs)\n",
        "    train_prompts.append(processor.decode(out[0], skip_special_tokens=True))\n",
        "    if i % 500 == 0:\n",
        "        print(\"Completed iter: \", i)"
      ],
      "metadata": {
        "id": "iGlikGzgwzOP",
        "outputId": "a9241939-57ac-419b-9c82-9b68b32eb42f",
        "colab": {
          "base_uri": "https://localhost:8080/"
        }
      },
      "execution_count": 5,
      "outputs": [
        {
          "output_type": "stream",
          "name": "stderr",
          "text": [
            "/home/lucas_ellenberger/.local/lib/python3.10/site-packages/transformers/generation/utils.py:1168: UserWarning: Using the model-agnostic default `max_length` (=20) to control the generation length. We recommend setting `max_new_tokens` to control the maximum length of the generation.\n",
            "  warnings.warn(\n"
          ]
        },
        {
          "output_type": "stream",
          "name": "stdout",
          "text": [
            "Completed iter:  0\n",
            "Completed iter:  500\n",
            "Completed iter:  1000\n",
            "Completed iter:  1500\n",
            "Completed iter:  2000\n",
            "Completed iter:  2500\n",
            "Completed iter:  3000\n",
            "Completed iter:  3500\n",
            "Completed iter:  4000\n",
            "Completed iter:  4500\n",
            "Completed iter:  5000\n"
          ]
        }
      ]
    },
    {
      "cell_type": "code",
      "source": [
        "train_prompts_dict = {\n",
        "    'train_prompts' : train_prompts\n",
        "}\n",
        "\n",
        "prompts = pandas.DataFrame.from_dict(train_prompts_dict)\n",
        "os.makedirs('prompts/test', exist_ok=True)\n",
        "prompts.to_csv('prompts/test/prompts.csv')"
      ],
      "metadata": {
        "id": "6w9DUkRJ1O5P"
      },
      "execution_count": 9,
      "outputs": []
    },
    {
      "cell_type": "code",
      "source": [
        "device = torch.device('cuda' if torch.cuda.is_available() else 'cpu')\n",
        "print(device)\n",
        "pipe = StableDiffusionPipeline.from_pretrained(\n",
        "\t\"CompVis/stable-diffusion-v1-4\",\n",
        "\tuse_auth_token=True\n",
        ").to(device)\n",
        "\n",
        "prompt = \"a photo of an astronaut riding a horse on mars\"\n",
        "with autocast(device):\n",
        "    image = pipe(prompt)[\"sample\"][0]\n",
        "\n",
        "image.save(\"astronaut_rides_horse.png\")"
      ],
      "metadata": {
        "colab": {
          "base_uri": "https://localhost:8080/",
          "height": 505,
          "referenced_widgets": [
            "a9fe72ca90ec419996c9096a21c1811c",
            "eef54ad482d946d49ed974e0a4f98f6a",
            "e10b9d5ba15b4d9bb72382f9dfe06f0d",
            "cc07f97c9a494165a8968d887012d710",
            "c0e12902a08f4dc5beab9bd8ec45b105",
            "36f0a414ab55420bbcdf2891c985d31c",
            "62ca1390baf04bfc8a3d774f77314062",
            "7d9d3ef2ea84440f9e8ab159d98d3b5c",
            "066b8b7602fa431e808cb0222dbbb2fb",
            "81ee07710eaf4be48340cc37ced2c34b",
            "78f1ed74b90841a4bdcd01b0149ca86f"
          ]
        },
        "id": "v69Mw-HRj0WH",
        "outputId": "2003a1cb-2659-42e9-b882-6dfbad2d600f",
        "collapsed": true
      },
      "execution_count": null,
      "outputs": [
        {
          "output_type": "stream",
          "name": "stderr",
          "text": [
            "/usr/local/lib/python3.10/dist-packages/huggingface_hub/utils/_token.py:88: UserWarning: \n",
            "The secret `HF_TOKEN` does not exist in your Colab secrets.\n",
            "To authenticate with the Hugging Face Hub, create a token in your settings tab (https://huggingface.co/settings/tokens), set it as secret in your Google Colab and restart your session.\n",
            "You will be able to reuse this secret in all of your notebooks.\n",
            "Please note that authentication is recommended but still optional to access public models or datasets.\n",
            "  warnings.warn(\n",
            "Keyword arguments {'use_auth_token': True} are not expected by StableDiffusionPipeline and will be ignored.\n"
          ]
        },
        {
          "output_type": "display_data",
          "data": {
            "text/plain": [
              "Loading pipeline components...:   0%|          | 0/7 [00:00<?, ?it/s]"
            ],
            "application/vnd.jupyter.widget-view+json": {
              "version_major": 2,
              "version_minor": 0,
              "model_id": "a9fe72ca90ec419996c9096a21c1811c"
            }
          },
          "metadata": {}
        },
        {
          "output_type": "error",
          "ename": "RuntimeError",
          "evalue": "User specified an unsupported autocast device_type 'cpu'",
          "traceback": [
            "\u001b[0;31m---------------------------------------------------------------------------\u001b[0m",
            "\u001b[0;31mRuntimeError\u001b[0m                              Traceback (most recent call last)",
            "\u001b[0;32m<ipython-input-4-32a2dd59e5d2>\u001b[0m in \u001b[0;36m<cell line: 8>\u001b[0;34m()\u001b[0m\n\u001b[1;32m      6\u001b[0m \u001b[0;34m\u001b[0m\u001b[0m\n\u001b[1;32m      7\u001b[0m \u001b[0mprompt\u001b[0m \u001b[0;34m=\u001b[0m \u001b[0;34m\"a photo of an astronaut riding a horse on mars\"\u001b[0m\u001b[0;34m\u001b[0m\u001b[0;34m\u001b[0m\u001b[0m\n\u001b[0;32m----> 8\u001b[0;31m \u001b[0;32mwith\u001b[0m \u001b[0mautocast\u001b[0m\u001b[0;34m(\u001b[0m\u001b[0mdevice\u001b[0m\u001b[0;34m)\u001b[0m\u001b[0;34m:\u001b[0m\u001b[0;34m\u001b[0m\u001b[0;34m\u001b[0m\u001b[0m\n\u001b[0m\u001b[1;32m      9\u001b[0m     \u001b[0mimage\u001b[0m \u001b[0;34m=\u001b[0m \u001b[0mpipe\u001b[0m\u001b[0;34m(\u001b[0m\u001b[0mprompt\u001b[0m\u001b[0;34m)\u001b[0m\u001b[0;34m[\u001b[0m\u001b[0;34m\"sample\"\u001b[0m\u001b[0;34m]\u001b[0m\u001b[0;34m[\u001b[0m\u001b[0;36m0\u001b[0m\u001b[0;34m]\u001b[0m\u001b[0;34m\u001b[0m\u001b[0;34m\u001b[0m\u001b[0m\n\u001b[1;32m     10\u001b[0m \u001b[0;34m\u001b[0m\u001b[0m\n",
            "\u001b[0;32m/usr/local/lib/python3.10/dist-packages/torch/amp/autocast_mode.py\u001b[0m in \u001b[0;36m__init__\u001b[0;34m(self, device_type, dtype, enabled, cache_enabled)\u001b[0m\n\u001b[1;32m    239\u001b[0m             \u001b[0mself\u001b[0m\u001b[0;34m.\u001b[0m\u001b[0mfast_dtype\u001b[0m \u001b[0;34m=\u001b[0m \u001b[0mself\u001b[0m\u001b[0;34m.\u001b[0m\u001b[0mcustom_device_mod\u001b[0m\u001b[0;34m.\u001b[0m\u001b[0mget_autocast_dtype\u001b[0m\u001b[0;34m(\u001b[0m\u001b[0;34m)\u001b[0m\u001b[0;34m\u001b[0m\u001b[0;34m\u001b[0m\u001b[0m\n\u001b[1;32m    240\u001b[0m         \u001b[0;32melse\u001b[0m\u001b[0;34m:\u001b[0m\u001b[0;34m\u001b[0m\u001b[0;34m\u001b[0m\u001b[0m\n\u001b[0;32m--> 241\u001b[0;31m             raise RuntimeError(\n\u001b[0m\u001b[1;32m    242\u001b[0m                 \u001b[0;34mf\"User specified an unsupported autocast device_type '{self.device}'\"\u001b[0m\u001b[0;34m\u001b[0m\u001b[0;34m\u001b[0m\u001b[0m\n\u001b[1;32m    243\u001b[0m             )\n",
            "\u001b[0;31mRuntimeError\u001b[0m: User specified an unsupported autocast device_type 'cpu'"
          ]
        }
      ]
    }
  ]
}